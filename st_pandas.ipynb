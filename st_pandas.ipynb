{
 "metadata": {
  "language_info": {
   "codemirror_mode": {
    "name": "ipython",
    "version": 3
   },
   "file_extension": ".py",
   "mimetype": "text/x-python",
   "name": "python",
   "nbconvert_exporter": "python",
   "pygments_lexer": "ipython3",
   "version": "3.7.8-final"
  },
  "orig_nbformat": 2,
  "kernelspec": {
   "name": "python3",
   "display_name": "Python 3",
   "language": "python"
  }
 },
 "nbformat": 4,
 "nbformat_minor": 2,
 "cells": [
  {
   "cell_type": "code",
   "execution_count": 181,
   "metadata": {},
   "outputs": [],
   "source": [
    "# 머신러닝에서 가장 중요한 데이터의 표현을 numpy를 통해 알 수 있었습니다.\n",
    "# Pandas는 행과 열로 이루어진 2차원의 데이터를 쉽게 처리할 수 있도록 다양한 기능을 제공합니다. 넘파이에 대해 공부하고 보시는걸 추천드립니다!\n",
    "# 실행하기 전 어떤 결과가 나올지 생각해 보세요!\n",
    "\n",
    "# 우선 Pandas 모듈을 불러옵니다, pandas는 너무 길기 때문에 pd로 축약해서 표현합니다.\n",
    "import pandas as pd\n",
    "\n",
    "# 만약 모듈이 없다고 뜨면 터미널 PS C:\\Users\\파일이름> pip install pandas를 쳐주세요 "
   ]
  },
  {
   "cell_type": "code",
   "execution_count": 224,
   "metadata": {},
   "outputs": [
    {
     "output_type": "stream",
     "name": "stdout",
     "text": [
      "titanic_df 변수 type:  <class 'pandas.core.frame.DataFrame'>\n"
     ]
    }
   ],
   "source": [
    "# 판다스는 다양한 파일을 데이터프레임으로 로딩할 수 있는 편리한 API 제공합니다.\n",
    "# API가 무엇인지 고민하지 말고 코드를 통해 알아봅시다.\n",
    "\n",
    "# read_csv(): 괄호 안에 파일 경로를 적으면 해당하는 csv파일을 로딩합니다.\n",
    "# 예시로 깃허브에 있는 타이타닉 데이터를 로딩해 봅시다. \n",
    "titanic_df = pd.read_csv('https://raw.githubusercontent.com/HanXiaoyang/Kaggle_Titanic/master/train.csv')\n",
    "print('titanic_df 변수 type: ', type(titanic_df))"
   ]
  },
  {
   "cell_type": "code",
   "execution_count": 245,
   "metadata": {},
   "outputs": [
    {
     "output_type": "stream",
     "name": "stdout",
     "text": [
      "   PassengerId  Survived  Pclass  \\\n0            1         0       3   \n1            2         1       1   \n2            3         1       3   \n3            4         1       1   \n\n                                                Name     Sex   Age  SibSp  \\\n0                            Braund, Mr. Owen Harris    male  22.0      1   \n1  Cumings, Mrs. John Bradley (Florence Briggs Th...  female  38.0      1   \n2                             Heikkinen, Miss. Laina  female  26.0      0   \n3       Futrelle, Mrs. Jacques Heath (Lily May Peel)  female  35.0      1   \n\n   Parch            Ticket     Fare Cabin Embarked  \n0      0         A/5 21171   7.2500   NaN        S  \n1      0          PC 17599  71.2833   C85        C  \n2      0  STON/O2. 3101282   7.9250   NaN        S  \n3      0            113803  53.1000  C123        S  \n"
     ]
    }
   ],
   "source": [
    "# DataFrame.head(): 괄호 안의 인자 수만큼 순서대로 행을 출력합니다.\n",
    "print(titanic_df.head(4))"
   ]
  },
  {
   "cell_type": "code",
   "execution_count": 246,
   "metadata": {},
   "outputs": [
    {
     "output_type": "stream",
     "name": "stdout",
     "text": [
      "(891, 12)\n"
     ]
    }
   ],
   "source": [
    "# DataFrame.shape: 데이터프레임의 행과 열을 튜플 형태로 출력합니다.\n",
    "print(titanic_df.shape)"
   ]
  },
  {
   "cell_type": "code",
   "execution_count": 247,
   "metadata": {},
   "outputs": [
    {
     "output_type": "stream",
     "name": "stdout",
     "text": [
      "<class 'pandas.core.frame.DataFrame'>\nRangeIndex: 891 entries, 0 to 890\nData columns (total 12 columns):\n #   Column       Non-Null Count  Dtype  \n---  ------       --------------  -----  \n 0   PassengerId  891 non-null    int64  \n 1   Survived     891 non-null    int64  \n 2   Pclass       891 non-null    int64  \n 3   Name         891 non-null    object \n 4   Sex          891 non-null    object \n 5   Age          891 non-null    float64\n 6   SibSp        891 non-null    int64  \n 7   Parch        891 non-null    int64  \n 8   Ticket       891 non-null    object \n 9   Fare         891 non-null    float64\n 10  Cabin        204 non-null    object \n 11  Embarked     889 non-null    object \ndtypes: float64(2), int64(5), object(5)\nmemory usage: 83.7+ KB\nNone\n"
     ]
    }
   ],
   "source": [
    "# DataFrame.info(): 데이터프레임의 총 데이터건수, 데이터 타입, Null건수를 출력합니다.\n",
    "# null은 비어있는 곳을 의미합니다.\n",
    "print(titanic_df.info()) "
   ]
  },
  {
   "cell_type": "code",
   "execution_count": 248,
   "metadata": {},
   "outputs": [
    {
     "output_type": "stream",
     "name": "stdout",
     "text": [
      "       PassengerId    Survived      Pclass         Age       SibSp  \\\ncount   891.000000  891.000000  891.000000  891.000000  891.000000   \nmean    446.000000    0.383838    2.308642   29.699118    0.523008   \nstd     257.353842    0.486592    0.836071   13.002015    1.102743   \nmin       1.000000    0.000000    1.000000    0.420000    0.000000   \n25%     223.500000    0.000000    2.000000   22.000000    0.000000   \n50%     446.000000    0.000000    3.000000   29.699118    0.000000   \n75%     668.500000    1.000000    3.000000   35.000000    1.000000   \nmax     891.000000    1.000000    3.000000   80.000000    8.000000   \n\n            Parch        Fare  \ncount  891.000000  891.000000  \nmean     0.381594   32.204208  \nstd      0.806057   49.693429  \nmin      0.000000    0.000000  \n25%      0.000000    7.910400  \n50%      0.000000   14.454200  \n75%      0.000000   31.000000  \nmax      6.000000  512.329200  \n"
     ]
    }
   ],
   "source": [
    "# DataFrame.describe(): 숫자형 데이터 값의 분포, 평균, 최댓값, 최솟값을 알려줍니다. (문자형은 출력에서 제외됩니다.)\n",
    "# count값는 non-null개수를 의미합니다.\n",
    "print(titanic_df.describe())"
   ]
  },
  {
   "cell_type": "code",
   "execution_count": 249,
   "metadata": {},
   "outputs": [
    {
     "output_type": "stream",
     "name": "stdout",
     "text": [
      "0    549\n1    342\nName: Survived, dtype: int64\n"
     ]
    }
   ],
   "source": [
    "# Series.value_counts() : 지정된 컬럼의 데이터 값의 개수를 알려줍니다.\n",
    "# -> value_counts()는 Series(데이터프레임의 하나의 열) 형태의 데이터에만 사용 가능합니다.\n",
    "print(titanic_df['Survived'].value_counts())"
   ]
  },
  {
   "cell_type": "code",
   "execution_count": 250,
   "metadata": {},
   "outputs": [
    {
     "output_type": "stream",
     "name": "stdout",
     "text": [
      "원래의 데이터:\n [1 2 3]\n\n1차원 ndarray로 만든 DataFrame: \n    col 1\n0      1\n1      2\n2      3\n\n2차원 ndarray로 만든 DataFrame:\n    col 1  col 2  col 3  col 4  col 5\n0      1      2      3      4      5\n1      6      7      8      9     10\n"
     ]
    }
   ],
   "source": [
    "# pandas의 데이터 프레임은 리스트와 넘파이의 ndarray와 다르게 column(열) 이름을 가지고 있습니다. \n",
    "# ex) 타이타닉 데이터의 Survived칼럼, Pclass칼럼...\n",
    "# 하지만 리스트와 ndarray도 pandas를 이용하면 칼럼명을 생성할 수 있습니다.\n",
    "\n",
    "# 넘파이의 ndarray로 예시\n",
    "import numpy as np\n",
    "col_name1 = ['col 1']\n",
    "array1 = np.arange(1,4)\n",
    "print('원래의 데이터:\\n',array1)\n",
    "\n",
    "# 이제 이 1차원의 ndarray를 이용해 데이터 프레임을 생성합니다.\n",
    "df_array1 = pd.DataFrame(array1, columns=col_name1)\n",
    "print('\\n1차원 ndarray로 만든 DataFrame: \\n', df_array1)\n",
    "\n",
    "# 만약 2차원 형태의 ndarray를 이용하면 더 많은 칼럼을 지정할 수 있습니다.\n",
    "col_name2 = ['col 1', 'col 2', 'col 3', 'col 4', 'col 5']\n",
    "array2 = np.arange(1, 11)\n",
    "array_2d = array2.reshape(2,5)\n",
    "df_array_2d = pd.DataFrame(array_2d, columns=col_name2)\n",
    "print('\\n2차원 ndarray로 만든 DataFrame:\\n', df_array_2d)"
   ]
  },
  {
   "cell_type": "code",
   "execution_count": 251,
   "metadata": {},
   "outputs": [
    {
     "output_type": "stream",
     "name": "stdout",
     "text": [
      "df_array_2d.values shape:  (2, 5)\n[[ 1  2  3  4  5]\n [ 6  7  8  9 10]]\n"
     ]
    }
   ],
   "source": [
    "# 이번에는 반대로 DataFrame을 넘파이 ndarray로 바꿀 수 있습니다.\n",
    "\n",
    "# DataFrame.values: 데이터 프레임을 ndarray로 바꿔줍니다.\n",
    "# 방금 만든 df_arryay_2d를 바꿔보겠습니다. \n",
    "array3 = df_array_2d.values\n",
    "print('df_array_2d.values shape: ', array3.shape)\n",
    "print(array3)"
   ]
  },
  {
   "cell_type": "code",
   "execution_count": 252,
   "metadata": {},
   "outputs": [
    {
     "output_type": "stream",
     "name": "stdout",
     "text": [
      "   PassengerId  Survived  Pclass  \\\n0            1         0       3   \n1            2         1       1   \n2            3         1       3   \n\n                                                Name     Sex   Age  SibSp  \\\n0                            Braund, Mr. Owen Harris    male  22.0      1   \n1  Cumings, Mrs. John Bradley (Florence Briggs Th...  female  38.0      1   \n2                             Heikkinen, Miss. Laina  female  26.0      0   \n\n   Parch            Ticket     Fare Cabin Embarked  Age_0  \n0      0         A/5 21171   7.2500   NaN        S      0  \n1      0          PC 17599  71.2833   C85        C      0  \n2      0  STON/O2. 3101282   7.9250   NaN        S      0  \n"
     ]
    }
   ],
   "source": [
    "# pandas를 이용하면 데이터프레임에 새로운 칼럼을 추가할 수 있습니다.\n",
    "# 타이타닉 데이터에 Age_0이라는 새로운 칼럼을 추가하고, 일괄적으로 값을 0으로 할당해 보겠습니다.\n",
    "titanic_df['Age_0'] = 0\n",
    "print(titanic_df.head(3))"
   ]
  },
  {
   "cell_type": "code",
   "execution_count": 253,
   "metadata": {},
   "outputs": [],
   "source": [
    "# 하지만 머신러닝에 필요하지 않는 데이터를 사용하면 효율이 떨어집니다.\n",
    "#  방금 Age_0칼럼을 추가한 것처럼 삭제할 수도 있습니다.\n",
    "\n",
    "# drop(): 데이터를 삭제하는데 사용됩니다. \n",
    "# DaataFrame.drop(labels=\"A\", axis=\"B\", index= , columns= , level= , inplace=\"C\", errors=, )\n",
    "\n",
    "# \"A\"의 값은 삭제할 컬럼명 지정, 여러개를 지울 때는 리스트로 넣을 수 있습니다.\n",
    "# \"B\"의 값으로 0과 1이 있습니다.\n",
    "# --> axis = 0: 해당하는 행(row)을 삭제합니다. \n",
    "# --> axis = 1: 해당하는 열(column)을 삭제합니다.\n",
    "# \"C\"의 값으로 False와 True가 있습니다.\n",
    "# --> inplace = False: 원본 데이터를 그대로 유지한 채 삭제합니다.\n",
    "# --> inplace = True: 원본 데이터의 값을 삭제합니다.\n",
    "\n",
    "# 코드를 보면서 이해해 보세요!"
   ]
  },
  {
   "cell_type": "code",
   "execution_count": 254,
   "metadata": {},
   "outputs": [
    {
     "output_type": "stream",
     "name": "stdout",
     "text": [
      "   PassengerId  Survived  Pclass  \\\n0            1         0       3   \n1            2         1       1   \n2            3         1       3   \n\n                                                Name     Sex   Age  SibSp  \\\n0                            Braund, Mr. Owen Harris    male  22.0      1   \n1  Cumings, Mrs. John Bradley (Florence Briggs Th...  female  38.0      1   \n2                             Heikkinen, Miss. Laina  female  26.0      0   \n\n   Parch            Ticket     Fare Cabin Embarked  \n0      0         A/5 21171   7.2500   NaN        S  \n1      0          PC 17599  71.2833   C85        C  \n2      0  STON/O2. 3101282   7.9250   NaN        S  \n"
     ]
    }
   ],
   "source": [
    "# 방금 추가한 Age_0 칼럼을 삭제하겠습니다.\n",
    "titanic_drop_df = titanic_df.drop('Age_0', axis=1)\n",
    "print(titanic_drop_df.head(3))"
   ]
  },
  {
   "cell_type": "code",
   "execution_count": 255,
   "metadata": {},
   "outputs": [
    {
     "output_type": "stream",
     "name": "stdout",
     "text": [
      "   PassengerId  Survived  Pclass  \\\n0            1         0       3   \n1            2         1       1   \n2            3         1       3   \n\n                                                Name     Sex   Age  SibSp  \\\n0                            Braund, Mr. Owen Harris    male  22.0      1   \n1  Cumings, Mrs. John Bradley (Florence Briggs Th...  female  38.0      1   \n2                             Heikkinen, Miss. Laina  female  26.0      0   \n\n   Parch            Ticket     Fare Cabin Embarked  Age_0  \n0      0         A/5 21171   7.2500   NaN        S      0  \n1      0          PC 17599  71.2833   C85        C      0  \n2      0  STON/O2. 3101282   7.9250   NaN        S      0  \n"
     ]
    }
   ],
   "source": [
    "# 하지만 원본 titanic_df를 보면 Age_0칼럼이 삭제되지 않았습니다.\n",
    "print(titanic_df.head(3))"
   ]
  },
  {
   "cell_type": "code",
   "execution_count": 256,
   "metadata": {},
   "outputs": [
    {
     "output_type": "stream",
     "name": "stdout",
     "text": [
      "   PassengerId  Survived  Pclass  \\\n0            1         0       3   \n1            2         1       1   \n2            3         1       3   \n\n                                                Name     Sex   Age  SibSp  \\\n0                            Braund, Mr. Owen Harris    male  22.0      1   \n1  Cumings, Mrs. John Bradley (Florence Briggs Th...  female  38.0      1   \n2                             Heikkinen, Miss. Laina  female  26.0      0   \n\n   Parch            Ticket     Fare Cabin Embarked  \n0      0         A/5 21171   7.2500   NaN        S  \n1      0          PC 17599  71.2833   C85        C  \n2      0  STON/O2. 3101282   7.9250   NaN        S  \n"
     ]
    }
   ],
   "source": [
    "# inplace = True 로 두어 원본 데이터프레임에서도 삭제합니다.\n",
    "titanic_df.drop('Age_0', axis=1, inplace=True)\n",
    "print(titanic_df.head(3))"
   ]
  },
  {
   "cell_type": "code",
   "execution_count": 257,
   "metadata": {},
   "outputs": [
    {
     "output_type": "stream",
     "name": "stdout",
     "text": [
      "   index  PassengerId  Survived  Pclass  \\\n0      0            1         0       3   \n1      1            2         1       1   \n2      2            3         1       3   \n\n                                                Name     Sex   Age  SibSp  \\\n0                            Braund, Mr. Owen Harris    male  22.0      1   \n1  Cumings, Mrs. John Bradley (Florence Briggs Th...  female  38.0      1   \n2                             Heikkinen, Miss. Laina  female  26.0      0   \n\n   Parch            Ticket     Fare Cabin Embarked  \n0      0         A/5 21171   7.2500   NaN        S  \n1      0          PC 17599  71.2833   C85        C  \n2      0  STON/O2. 3101282   7.9250   NaN        S  \n"
     ]
    }
   ],
   "source": [
    "# DataFrame.index 또는 Series.index 를 통해 인덱스 객체만 추출할 수 있습니다.\n",
    "\n",
    "# Index 객체 추출\n",
    "index = titanic_df.index\n",
    "\n",
    "# reset_index(): 새로운 index를 연속 숫자형으로 할당하고, 기존 index는 index라는 새로운 컬럼명으로 추가합니다.\n",
    "#-->기존 index가 연속형 int 숫자형이 아닐 경우 이를 다시 연속형 int 숫자로 만들 때 주로 사용합니다.\n",
    "titanic_reset_df = titanic_df.reset_index(inplace=False)\n",
    "print(titanic_reset_df.head(3))"
   ]
  },
  {
   "cell_type": "code",
   "execution_count": 258,
   "metadata": {},
   "outputs": [
    {
     "output_type": "stream",
     "name": "stdout",
     "text": [
      "0    3\n1    1\n2    3\n3    1\n4    3\n5    3\n6    1\n7    3\nName: Pclass, dtype: int64\n\n   Survived  Pclass        Age\n0         0       3  22.000000\n1         1       1  38.000000\n2         1       3  26.000000\n3         1       1  35.000000\n4         0       3  35.000000\n5         0       3  29.699118\n6         0       1  54.000000\n7         0       3   2.000000\n\nBraund, Mr. Owen Harris\n                                                Name     Sex   Age\n0                            Braund, Mr. Owen Harris    male  22.0\n1  Cumings, Mrs. John Bradley (Florence Briggs Th...  female  38.0\n2                             Heikkinen, Miss. Laina  female  26.0\n3       Futrelle, Mrs. Jacques Heath (Lily May Peel)  female  35.0\n\nAllen, Mr. William Henry\n2    1\n3    1\n4    0\n5    0\n6    0\n7    0\nName: Survived, dtype: int64\n\n     Age  Survived\n33  66.0         0\n54  65.0         0\n96  71.0         0\n\n     PassengerId  Survived  Pclass                                       Name  \\\n275          276         1       1          Andrews, Miss. Kornelia Theodosia   \n829          830         1       1  Stone, Mrs. George Nelson (Martha Evelyn)   \n\n        Sex   Age  SibSp  Parch  Ticket     Fare Cabin Embarked  \n275  female  63.0      1      0   13502  77.9583    D7        S  \n829  female  62.0      0      0  113572  80.0000   B28      NaN  \n"
     ]
    }
   ],
   "source": [
    "# DataFrame은 여러 방법을 통해서 원하는 데이터를 선택할 수 있습니다!\n",
    "\n",
    "# 1. 가장 기본적인 DataFrame[]방식\n",
    "# 단일 칼럼 데이터를 추출합니다. \n",
    "print(titanic_df['Pclass'].head(8))\n",
    "print()\n",
    "# 여러 칼럼 데이터를 추출합니다. 여러 칼럼명을 리스트 형태로 작성합니다:['Survived', 'Pclass', 'Age']\n",
    "print(titanic_df[['Survived', 'Pclass', 'Age']].head(8))\n",
    "print()\n",
    "\n",
    "# 2. DataFrame.iloc[로우 인덱스,칼럼 인덱스]방식\n",
    "print(titanic_df.iloc[0, 3]) #Braund, Mr. Owen Harris출력\n",
    "# ':'을 이용하면 여러 값도 불러올 수 있습니다.\n",
    "print(titanic_df.iloc[0:4, 3:6])\n",
    "print()\n",
    "\n",
    "# 3. DataFrame.loc[로우 인덱스, 칼럼명]방식\n",
    "# 특정 칼럼의 값도 불러올 수 있습니다.\n",
    "print(titanic_df.loc[4, 'Name']) #Allen, Mr. William Henry출력\n",
    "# 콜론을 이용하면 여러 값도 불러올 수 있지만 인덱스 값을 조심해야 합니다.\n",
    "# 보통[2:7]-> 2부터 6까지, loc[2:7]-> 2부터 7까지\n",
    "print(titanic_df.loc[2:7, 'Survived'])\n",
    "print()\n",
    "\n",
    "# 4. 불린 인덱싱 방식\n",
    "print(titanic_df.loc[titanic_df['Age']>60,['Age', 'Survived']].head(3))\n",
    "print()\n",
    "# 여러 개의 복합 조건을 이용해서도 불린 인덱싱이 가능\n",
    "#    and 조건.: &\n",
    "#    or 조건 : |\n",
    "#    Not 조건 : ~\n",
    "print(titanic_df[ (titanic_df['Age']>60) & (titanic_df['Pclass']==1) & (titanic_df['Sex']=='female')])"
   ]
  },
  {
   "cell_type": "code",
   "execution_count": 259,
   "metadata": {},
   "outputs": [
    {
     "output_type": "stream",
     "name": "stdout",
     "text": [
      "     PassengerId  Survived  Pclass                            Name     Sex  \\\n445          446         1       1       Dodge, Master. Washington    male   \n310          311         1       1  Hays, Miss. Margaret Bechstein  female   \n309          310         1       1  Francatelli, Miss. Laura Mabel  female   \n\n      Age  SibSp  Parch    Ticket     Fare Cabin Embarked  \n445   4.0      0      2     33638  81.8583   A34        S  \n310  24.0      0      0     11767  83.1583   C54        C  \n309  30.0      0      0  PC 17485  56.9292   E36        C  \n\n     PassengerId  Survived  Pclass                     Name   Sex        Age  \\\n0              1         0       3  Braund, Mr. Owen Harris  male  22.000000   \n511          512         0       3        Webber, Mr. James  male  29.699118   \n500          501         0       3         Calic, Mr. Petar  male  17.000000   \n\n     SibSp  Parch            Ticket    Fare Cabin Embarked  \n0        1      0         A/5 21171  7.2500   NaN        S  \n511      0      0  SOTON/OQ 3101316  8.0500   NaN        S  \n500      0      0            315086  8.6625   NaN        S  \n"
     ]
    }
   ],
   "source": [
    "# 넘파이의 sort()처럼 DataFrame을 sort_values()를 이용하여 정리할 수 있습니다.\n",
    "\n",
    "titanic_sorted = titanic_df.sort_values(by=['Pclass'])\n",
    "print(titanic_sorted.head(3)) # Pclass칼럼을 확인해 주세요!\n",
    "print()\n",
    "# 만약 내림차순으로 정리하고 싶으면 ascending=False 추가합니다.\n",
    "titanic_sorted_down = titanic_df.sort_values(by=['Pclass'], ascending=False)\n",
    "print(titanic_sorted_down.head(3))"
   ]
  },
  {
   "cell_type": "code",
   "execution_count": 260,
   "metadata": {},
   "outputs": [
    {
     "output_type": "stream",
     "name": "stdout",
     "text": [
      "평균 나이: 29.69911764705882 \n각 칼럼의 non-null값: \n Cabin       204\nEmbarked    889\ndtype: int64\n"
     ]
    }
   ],
   "source": [
    "# Aggregation 함수를 이용하면 각 칼럼의  평균, 최댓값, 총합, non-null값의 개수 집계를 알 수 있습니다.\n",
    "# Aggregation 함수 종류 : min(), max(), sum(), count()\n",
    "print('평균 나이:',titanic_df['Age'].mean(), '\\n각 칼럼의 non-null값: \\n',titanic_df[['Cabin', 'Embarked']].count())"
   ]
  },
  {
   "cell_type": "code",
   "execution_count": 261,
   "metadata": {},
   "outputs": [
    {
     "output_type": "stream",
     "name": "stdout",
     "text": [
      "        Cabin  Embarked\nPclass                 \n1         176       214\n2          16       184\n3          12       491\n\n         max   min\nPclass            \n1       80.0  0.92\n2       70.0  0.67\n3       74.0  0.42\n\n         Age       Fare\nPclass                 \n1       80.0  84.154687\n2       70.0  20.662183\n3       74.0  13.675550\n"
     ]
    }
   ],
   "source": [
    "# groupby(): 특정 칼럼에 대해 데이터를 정리하는 방법입니다.\n",
    "\n",
    "# 좌석등급에 따라 데이터를 정리해 보겠습니다.\n",
    "titanic_groupby = titanic_df.groupby('Pclass')[['Cabin', 'Embarked']].count()\n",
    "print(titanic_groupby)\n",
    "print()\n",
    "\n",
    "# 여러개의 Aggregation함수를 적용하기 위해서는 agg를 이용합니다.\n",
    "print(titanic_df.groupby('Pclass')['Age'].agg(['max', 'min']))\n",
    "print()\n",
    "# 여러개의 칼럼에 Aggregation함수를 적용하기 위해서는 agg인자에 딕셔너리를 사용합니다.\n",
    "agg_format = {'Age':'max', 'Fare':'mean'}\n",
    "print(titanic_df.groupby('Pclass').agg(agg_format))"
   ]
  },
  {
   "cell_type": "code",
   "execution_count": 262,
   "metadata": {},
   "outputs": [
    {
     "output_type": "stream",
     "name": "stdout",
     "text": [
      "   PassengerId  Survived  Pclass   Name    Sex    Age  SibSp  Parch  Ticket  \\\n0        False     False   False  False  False  False  False  False   False   \n1        False     False   False  False  False  False  False  False   False   \n2        False     False   False  False  False  False  False  False   False   \n\n    Fare  Cabin  Embarked  \n0  False   True     False  \n1  False  False     False  \n2  False   True     False  \n\nPassengerId      0\nSurvived         0\nPclass           0\nName             0\nSex              0\nAge              0\nSibSp            0\nParch            0\nTicket           0\nFare             0\nCabin          687\nEmbarked         2\ndtype: int64\n"
     ]
    }
   ],
   "source": [
    "# 넘파이에서 NaN은 판다스에서null값을 의미합니다. (null은 비어있는 값을 의미합니다.)\n",
    "# 머신러닝에서 null은 문제가 되기 때문에 다른 값으로 대체해야합니다.\n",
    "\n",
    "# isnull() 또는 isna()를 이용해 NaN값 여부를 확인합니다.\n",
    "print(titanic_df.isnull().head(3))\n",
    "print()\n",
    "# True가 Null값이 있음을 의미합니다.\n",
    "\n",
    "# sum()을 이용하여 한번에 확인합니다.\n",
    "print(titanic_df.isnull().sum())\n",
    "\n",
    "# Age와 Cabin에 비어있는 값이 있다는것을 확인할 수 있습니다."
   ]
  },
  {
   "cell_type": "code",
   "execution_count": 263,
   "metadata": {},
   "outputs": [
    {
     "output_type": "stream",
     "name": "stdout",
     "text": [
      "PassengerId      0\nSurvived         0\nPclass           0\nName             0\nSex              0\nAge              0\nSibSp            0\nParch            0\nTicket           0\nFare             0\nCabin          687\nEmbarked         2\ndtype: int64\n"
     ]
    }
   ],
   "source": [
    "# fillna()를 이용하여 비어있는 값을 채워줄 수 있습니다. (값을 변경하는 함수는 모두 inplace=True파라미터를 추가해야 원본데이터가 바뀝니다.)\n",
    "\n",
    "# Age컬럼의 NaN를 평균값으로 대체하겠습니다.\n",
    "titanic_df['Age'] = titanic_df['Age'].fillna(titanic_df['Age'].mean())\n",
    "print(titanic_df.isnull().sum())\n",
    "\n",
    "# Age의 null값이 모두 채워진 것을 확인할 수 있습니다!"
   ]
  },
  {
   "cell_type": "code",
   "execution_count": 278,
   "metadata": {},
   "outputs": [
    {
     "output_type": "stream",
     "name": "stdout",
     "text": [
      "4의 제곱: 16\n4의 제곱: 16\n"
     ]
    }
   ],
   "source": [
    "# pandas는 람다(lambda)를 사용할 수 있습니다.\n",
    "\n",
    "# 람다가 무엇인지 간단히 설명하면\n",
    "\n",
    "#예를 들어 어떤 수를 제곱하는 함수를 만들어 보겠습니다.\n",
    "def get_square(a):\n",
    "    return a**2\n",
    "print('4의 제곱:',get_square(4))\n",
    "# 위의 함수를 lambda식으로 변환합니다.\n",
    "lambda_square = lambda x : x**2\n",
    "print('4의 제곱:',lambda_square(4))\n",
    "\n",
    "# 훨씬 더 간편하게 함수를 정리합니다."
   ]
  },
  {
   "cell_type": "code",
   "execution_count": 279,
   "metadata": {},
   "outputs": [
    {
     "output_type": "execute_result",
     "data": {
      "text/plain": [
       "         Age Child_Adult\n",
       "0  22.000000       Adult\n",
       "1  38.000000       Adult\n",
       "2  26.000000       Adult\n",
       "3  35.000000       Adult\n",
       "4  35.000000       Adult\n",
       "5  29.699118       Adult\n",
       "6  54.000000       Adult\n",
       "7   2.000000       Child"
      ],
      "text/html": "<div>\n<style scoped>\n    .dataframe tbody tr th:only-of-type {\n        vertical-align: middle;\n    }\n\n    .dataframe tbody tr th {\n        vertical-align: top;\n    }\n\n    .dataframe thead th {\n        text-align: right;\n    }\n</style>\n<table border=\"1\" class=\"dataframe\">\n  <thead>\n    <tr style=\"text-align: right;\">\n      <th></th>\n      <th>Age</th>\n      <th>Child_Adult</th>\n    </tr>\n  </thead>\n  <tbody>\n    <tr>\n      <th>0</th>\n      <td>22.000000</td>\n      <td>Adult</td>\n    </tr>\n    <tr>\n      <th>1</th>\n      <td>38.000000</td>\n      <td>Adult</td>\n    </tr>\n    <tr>\n      <th>2</th>\n      <td>26.000000</td>\n      <td>Adult</td>\n    </tr>\n    <tr>\n      <th>3</th>\n      <td>35.000000</td>\n      <td>Adult</td>\n    </tr>\n    <tr>\n      <th>4</th>\n      <td>35.000000</td>\n      <td>Adult</td>\n    </tr>\n    <tr>\n      <th>5</th>\n      <td>29.699118</td>\n      <td>Adult</td>\n    </tr>\n    <tr>\n      <th>6</th>\n      <td>54.000000</td>\n      <td>Adult</td>\n    </tr>\n    <tr>\n      <th>7</th>\n      <td>2.000000</td>\n      <td>Child</td>\n    </tr>\n  </tbody>\n</table>\n</div>"
     },
     "metadata": {},
     "execution_count": 279
    }
   ],
   "source": [
    "# 타이타닉데이터에서 람다를 이용해 데이터 나이에 따른 분류 칼럼을 만들어 보겠습니다.\n",
    "\n",
    "titanic_df['Child_Adult'] = titanic_df['Age'].apply(lambda x : 'Child' if x < 15 else 'Adult')\n",
    "print(titanic_df[['Age', 'Child_Adult']].head(8))\n",
    "# 여기서 if의 위치가 값 뒤에 있다는 것을 주의하세요! "
   ]
  },
  {
   "cell_type": "code",
   "execution_count": 280,
   "metadata": {},
   "outputs": [],
   "source": [
    "# head(), info(), drop(), DataFrame.loc[], Aggregation함수, groupby(), isnull(), fillna() 이것들이 판다스에서 어떤 역할을 하는지 확인해 보세요!"
   ]
  }
 ]
}