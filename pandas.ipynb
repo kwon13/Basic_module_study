{
 "cells": [
  {
   "source": [
    "# Pandas\n",
    "pandas란 python에서 excel, csv과 같은 table(표)형태의 2차원 데이터를 쉽게 다룰 수 있도록 다양한 기능을 제공합니다.   \n",
    "SQL과 비슷한 용어들이 많이 있으므로 pandas를 공부하면 SQL을 조금 더 쉽게 이해할 수 있습니다 "
   ],
   "cell_type": "markdown",
   "metadata": {}
  },
  {
   "cell_type": "code",
   "execution_count": 1,
   "metadata": {},
   "outputs": [
    {
     "output_type": "stream",
     "name": "stdout",
     "text": [
      "Requirement already satisfied: pandas in /opt/anaconda3/lib/python3.8/site-packages (1.2.4)\nRequirement already satisfied: python-dateutil>=2.7.3 in /opt/anaconda3/lib/python3.8/site-packages (from pandas) (2.8.1)\nRequirement already satisfied: pytz>=2017.3 in /opt/anaconda3/lib/python3.8/site-packages (from pandas) (2021.1)\nRequirement already satisfied: numpy>=1.16.5 in /opt/anaconda3/lib/python3.8/site-packages (from pandas) (1.20.1)\nRequirement already satisfied: six>=1.5 in /opt/anaconda3/lib/python3.8/site-packages (from python-dateutil>=2.7.3->pandas) (1.15.0)\n"
     ]
    }
   ],
   "source": [
    "# 먼저 pandas를 설치 후 불러옵니다!\n",
    "!pip install pandas \n",
    "import pandas as pd # 관례적으로 줄여서 pd라고 사용합니다( as 는 모듈의 별명을 지정합니다!)"
   ]
  },
  {
   "source": [
    "## Series, DataFrame\n",
    "pandas에서는 Series와 DataFrame 두 종류의 형식이 있습니다  \n",
    "Series는 column이 1개인 1차원 데이터 이고,  \n",
    "DataFrame은 두 개 이상의 column이 있는 데이터 입니다  "
   ],
   "cell_type": "markdown",
   "metadata": {}
  },
  {
   "source": [
    "## 1. Serise 생성\n",
    "pd.Serise(seq_data, index): 인자로 시퀀스 데이터를 받고 Serise형으로 반환합니다(index를 입력하지 않으면 개수에 맞게 자동 생성)"
   ],
   "cell_type": "markdown",
   "metadata": {}
  },
  {
   "cell_type": "code",
   "execution_count": 2,
   "metadata": {},
   "outputs": [
    {
     "output_type": "execute_result",
     "data": {
      "text/plain": [
       "0     1.3\n",
       "1    30.0\n",
       "2     NaN\n",
       "3     1.0\n",
       "dtype: float64"
      ]
     },
     "metadata": {},
     "execution_count": 2
    }
   ],
   "source": [
    "# 넘파이 배열로 시리즈 생성\n",
    "import numpy as np\n",
    "seq_data=np.array([1.3,30,np.nan,np.sin(np.pi/2)])\n",
    "s1=pd.Series(seq_data)\n",
    "s1"
   ]
  },
  {
   "cell_type": "code",
   "execution_count": 3,
   "metadata": {},
   "outputs": [
    {
     "output_type": "execute_result",
     "data": {
      "text/plain": [
       "A     1.3\n",
       "B    30.0\n",
       "C     NaN\n",
       "D     1.0\n",
       "dtype: float64"
      ]
     },
     "metadata": {},
     "execution_count": 3
    }
   ],
   "source": [
    "index_data=['A','B','C','D']\n",
    "s1.index=index_data # Serise를 생성할 때 index 지정 또한 가능합니다\n",
    "s1"
   ]
  },
  {
   "cell_type": "code",
   "execution_count": 4,
   "metadata": {},
   "outputs": [
    {
     "output_type": "execute_result",
     "data": {
      "text/plain": [
       "array([ 1.3, 30. ,  nan,  1. ])"
      ]
     },
     "metadata": {},
     "execution_count": 4
    }
   ],
   "source": [
    "# 해당 칼럼의 데이터값을 모두 보여줍니다\n",
    "s1.values"
   ]
  },
  {
   "cell_type": "code",
   "execution_count": 5,
   "metadata": {},
   "outputs": [
    {
     "output_type": "execute_result",
     "data": {
      "text/plain": [
       "국어     90\n",
       "수학     89\n",
       "과학    100\n",
       "영어     75\n",
       "dtype: int64"
      ]
     },
     "metadata": {},
     "execution_count": 5
    }
   ],
   "source": [
    "# 딕셔너리로 시리즈 생성\n",
    "score={\n",
    "    '국어':90,\n",
    "    '수학':89,\n",
    "    '과학':100,\n",
    "    '영어':75\n",
    "}\n",
    "pd.Series(score)"
   ]
  },
  {
   "source": [
    "## 2. Serise 연산"
   ],
   "cell_type": "markdown",
   "metadata": {}
  },
  {
   "cell_type": "code",
   "execution_count": 6,
   "metadata": {},
   "outputs": [
    {
     "output_type": "execute_result",
     "data": {
      "text/plain": [
       "0     6.0\n",
       "1    12.0\n",
       "2    18.0\n",
       "3    24.0\n",
       "4    30.0\n",
       "5    36.0\n",
       "6    42.0\n",
       "7    48.0\n",
       "8    54.0\n",
       "9     NaN\n",
       "dtype: float64"
      ]
     },
     "metadata": {},
     "execution_count": 6
    }
   ],
   "source": [
    "s1=pd.Series(range(1,10)) # 1~9 -9개\n",
    "s2=pd.Series(np.linspace(5,50,10)) # 5,10,...,50 -10개\n",
    "s1+s2 # s1의 10번째 행의 값이 없으므로 nan값에 사칙연산을 해도 nan으로 반환"
   ]
  },
  {
   "cell_type": "code",
   "execution_count": 7,
   "metadata": {},
   "outputs": [
    {
     "output_type": "execute_result",
     "data": {
      "text/plain": [
       "0      5.0\n",
       "1     20.0\n",
       "2     45.0\n",
       "3     80.0\n",
       "4    125.0\n",
       "5    180.0\n",
       "6    245.0\n",
       "7    320.0\n",
       "8    405.0\n",
       "9      NaN\n",
       "dtype: float64"
      ]
     },
     "metadata": {},
     "execution_count": 7
    }
   ],
   "source": [
    "s1*s2"
   ]
  },
  {
   "source": [
    "## 3. DataFrame 생성\n",
    "pd.DataFrame(seq_data, index): 인자로 시퀀스 데이터를 받고 DataFrame형으로 반환합니다(index를 입력하지 않으면 개수에 맞게 자동 생성)"
   ],
   "cell_type": "markdown",
   "metadata": {}
  },
  {
   "cell_type": "code",
   "execution_count": 8,
   "metadata": {},
   "outputs": [
    {
     "output_type": "execute_result",
     "data": {
      "text/plain": [
       "       0   1   2   3   4\n",
       "X      1   2   3   4   5\n",
       "X*10  10  20  30  40  50"
      ],
      "text/html": "<div>\n<style scoped>\n    .dataframe tbody tr th:only-of-type {\n        vertical-align: middle;\n    }\n\n    .dataframe tbody tr th {\n        vertical-align: top;\n    }\n\n    .dataframe thead th {\n        text-align: right;\n    }\n</style>\n<table border=\"1\" class=\"dataframe\">\n  <thead>\n    <tr style=\"text-align: right;\">\n      <th></th>\n      <th>0</th>\n      <th>1</th>\n      <th>2</th>\n      <th>3</th>\n      <th>4</th>\n    </tr>\n  </thead>\n  <tbody>\n    <tr>\n      <th>X</th>\n      <td>1</td>\n      <td>2</td>\n      <td>3</td>\n      <td>4</td>\n      <td>5</td>\n    </tr>\n    <tr>\n      <th>X*10</th>\n      <td>10</td>\n      <td>20</td>\n      <td>30</td>\n      <td>40</td>\n      <td>50</td>\n    </tr>\n  </tbody>\n</table>\n</div>"
     },
     "metadata": {},
     "execution_count": 8
    }
   ],
   "source": [
    "data=np.array([[1,2,3,4,5],[10,20,30,40,50]])\n",
    "index_data=['X','X*10']\n",
    "pd.DataFrame(data,index_data)"
   ]
  },
  {
   "cell_type": "code",
   "execution_count": 9,
   "metadata": {},
   "outputs": [
    {
     "output_type": "execute_result",
     "data": {
      "text/plain": [
       "      연도  매출액(만원)\n",
       "0   2010      107\n",
       "1   2011      159\n",
       "2   2012      185\n",
       "3   2013      151\n",
       "4   2014      110\n",
       "5   2015      152\n",
       "6   2016      113\n",
       "7   2017      138\n",
       "8   2018      147\n",
       "9   2019      179\n",
       "10  2020      174\n",
       "11  2021      129"
      ],
      "text/html": "<div>\n<style scoped>\n    .dataframe tbody tr th:only-of-type {\n        vertical-align: middle;\n    }\n\n    .dataframe tbody tr th {\n        vertical-align: top;\n    }\n\n    .dataframe thead th {\n        text-align: right;\n    }\n</style>\n<table border=\"1\" class=\"dataframe\">\n  <thead>\n    <tr style=\"text-align: right;\">\n      <th></th>\n      <th>연도</th>\n      <th>매출액(만원)</th>\n    </tr>\n  </thead>\n  <tbody>\n    <tr>\n      <th>0</th>\n      <td>2010</td>\n      <td>107</td>\n    </tr>\n    <tr>\n      <th>1</th>\n      <td>2011</td>\n      <td>159</td>\n    </tr>\n    <tr>\n      <th>2</th>\n      <td>2012</td>\n      <td>185</td>\n    </tr>\n    <tr>\n      <th>3</th>\n      <td>2013</td>\n      <td>151</td>\n    </tr>\n    <tr>\n      <th>4</th>\n      <td>2014</td>\n      <td>110</td>\n    </tr>\n    <tr>\n      <th>5</th>\n      <td>2015</td>\n      <td>152</td>\n    </tr>\n    <tr>\n      <th>6</th>\n      <td>2016</td>\n      <td>113</td>\n    </tr>\n    <tr>\n      <th>7</th>\n      <td>2017</td>\n      <td>138</td>\n    </tr>\n    <tr>\n      <th>8</th>\n      <td>2018</td>\n      <td>147</td>\n    </tr>\n    <tr>\n      <th>9</th>\n      <td>2019</td>\n      <td>179</td>\n    </tr>\n    <tr>\n      <th>10</th>\n      <td>2020</td>\n      <td>174</td>\n    </tr>\n    <tr>\n      <th>11</th>\n      <td>2021</td>\n      <td>129</td>\n    </tr>\n  </tbody>\n</table>\n</div>"
     },
     "metadata": {},
     "execution_count": 9
    }
   ],
   "source": [
    "dict_data={\n",
    "    '연도':range(2010,2022),\n",
    "    '매출액(만원)':np.random.randint(100,200,12)\n",
    "}\n",
    "ct_data={\n",
    "    '연도':range(2010,2022),\n",
    "    '매출액(만원)':np.random.randint(100,200,12)\n",
    "}\n",
    "df=pd.DataFrame(dict_data)\n",
    "df"
   ]
  },
  {
   "source": [
    "## 4. 데이터프레임 메소드"
   ],
   "cell_type": "markdown",
   "metadata": {}
  },
  {
   "cell_type": "code",
   "execution_count": 10,
   "metadata": {},
   "outputs": [
    {
     "output_type": "stream",
     "name": "stdout",
     "text": [
      "     연도  매출액(만원)\n0  2010      107\n1  2011      159\n2  2012      185\n3  2013      151\n4  2014      110 \n\n      연도  매출액(만원)\n9   2019      179\n10  2020      174\n11  2021      129\n"
     ]
    }
   ],
   "source": [
    "# DataFrame.head(n),DataFrame.tail(n): 처음부터 n까지 데이터를 보여줌, 마지막부터 마지막-n까지 데이터를 보여줌 (default=5)\n",
    "print(df.head(),'\\n')\n",
    "print(df.tail(3))"
   ]
  },
  {
   "cell_type": "code",
   "execution_count": 11,
   "metadata": {},
   "outputs": [
    {
     "output_type": "stream",
     "name": "stdout",
     "text": [
      "1744\n145.33333333333334\n107\n185\n"
     ]
    }
   ],
   "source": [
    "# 총합, 평균, 최소, 최대\n",
    "print(df['매출액(만원)'].sum()) \n",
    "print(df['매출액(만원)'].mean())\n",
    "print(df['매출액(만원)'].min())\n",
    "print(df['매출액(만원)'].max())"
   ]
  },
  {
   "cell_type": "code",
   "execution_count": 12,
   "metadata": {},
   "outputs": [
    {
     "output_type": "stream",
     "name": "stdout",
     "text": [
      "26.76270584680152\n716.2424242424242\n0      107\n1      266\n2      451\n3      602\n4      712\n5      864\n6      977\n7     1115\n8     1262\n9     1441\n10    1615\n11    1744\nName: 매출액(만원), dtype: int64\n"
     ]
    }
   ],
   "source": [
    "# 표준편차, 분산, 누적합\n",
    "print(df['매출액(만원)'].std())\n",
    "print(df['매출액(만원)'].var())\n",
    "print(df['매출액(만원)'].cumsum())"
   ]
  },
  {
   "cell_type": "code",
   "execution_count": 13,
   "metadata": {},
   "outputs": [
    {
     "output_type": "execute_result",
     "data": {
      "text/plain": [
       "                연도     매출액(만원)\n",
       "count    12.000000   12.000000\n",
       "mean   2015.500000  145.333333\n",
       "std       3.605551   26.762706\n",
       "min    2010.000000  107.000000\n",
       "25%    2012.750000  125.000000\n",
       "50%    2015.500000  149.000000\n",
       "75%    2018.250000  162.750000\n",
       "max    2021.000000  185.000000"
      ],
      "text/html": "<div>\n<style scoped>\n    .dataframe tbody tr th:only-of-type {\n        vertical-align: middle;\n    }\n\n    .dataframe tbody tr th {\n        vertical-align: top;\n    }\n\n    .dataframe thead th {\n        text-align: right;\n    }\n</style>\n<table border=\"1\" class=\"dataframe\">\n  <thead>\n    <tr style=\"text-align: right;\">\n      <th></th>\n      <th>연도</th>\n      <th>매출액(만원)</th>\n    </tr>\n  </thead>\n  <tbody>\n    <tr>\n      <th>count</th>\n      <td>12.000000</td>\n      <td>12.000000</td>\n    </tr>\n    <tr>\n      <th>mean</th>\n      <td>2015.500000</td>\n      <td>145.333333</td>\n    </tr>\n    <tr>\n      <th>std</th>\n      <td>3.605551</td>\n      <td>26.762706</td>\n    </tr>\n    <tr>\n      <th>min</th>\n      <td>2010.000000</td>\n      <td>107.000000</td>\n    </tr>\n    <tr>\n      <th>25%</th>\n      <td>2012.750000</td>\n      <td>125.000000</td>\n    </tr>\n    <tr>\n      <th>50%</th>\n      <td>2015.500000</td>\n      <td>149.000000</td>\n    </tr>\n    <tr>\n      <th>75%</th>\n      <td>2018.250000</td>\n      <td>162.750000</td>\n    </tr>\n    <tr>\n      <th>max</th>\n      <td>2021.000000</td>\n      <td>185.000000</td>\n    </tr>\n  </tbody>\n</table>\n</div>"
     },
     "metadata": {},
     "execution_count": 13
    }
   ],
   "source": [
    "# DataFrame.describe(): 숫자형 데이터 값의 분포, 평균, 최댓값, 최솟값을 알려줍니다. (문자형은 출력에서 제외됩니다.)\n",
    "# count값는 non-null개수를 의미합니다.\n",
    "df.describe()"
   ]
  },
  {
   "cell_type": "code",
   "execution_count": 14,
   "metadata": {},
   "outputs": [
    {
     "output_type": "stream",
     "name": "stdout",
     "text": [
      "<class 'pandas.core.frame.DataFrame'>\nRangeIndex: 12 entries, 0 to 11\nData columns (total 2 columns):\n #   Column   Non-Null Count  Dtype\n---  ------   --------------  -----\n 0   연도       12 non-null     int64\n 1   매출액(만원)  12 non-null     int64\ndtypes: int64(2)\nmemory usage: 320.0 bytes\n"
     ]
    }
   ],
   "source": [
    "# DataFrame.info(): 데이터프레임의 총 데이터건수, 데이터 타입, Null건수를 출력합니다.\n",
    "df.info()"
   ]
  },
  {
   "cell_type": "code",
   "execution_count": 15,
   "metadata": {},
   "outputs": [
    {
     "output_type": "execute_result",
     "data": {
      "text/plain": [
       "(12, 2)"
      ]
     },
     "metadata": {},
     "execution_count": 15
    }
   ],
   "source": [
    "# DataFrame.shape: 데이터프레임의 row, column수를 출력합니다\n",
    "df.shape"
   ]
  },
  {
   "cell_type": "code",
   "execution_count": 16,
   "metadata": {},
   "outputs": [
    {
     "output_type": "execute_result",
     "data": {
      "text/plain": [
       "0       NaN\n",
       "1       NaN\n",
       "2       NaN\n",
       "3       NaN\n",
       "4       NaN\n",
       "5       NaN\n",
       "6       NaN\n",
       "7       NaN\n",
       "8       NaN\n",
       "9     179.0\n",
       "10      NaN\n",
       "11      NaN\n",
       "Name: 매출액(만원), dtype: float64"
      ]
     },
     "metadata": {},
     "execution_count": 16
    }
   ],
   "source": [
    "# Dataframe.where(조건문)\n",
    "df.where(df['연도']==2019)['매출액(만원)']"
   ]
  },
  {
   "cell_type": "code",
   "execution_count": 17,
   "metadata": {},
   "outputs": [
    {
     "output_type": "execute_result",
     "data": {
      "text/plain": [
       "129    1\n",
       "113    1\n",
       "147    1\n",
       "179    1\n",
       "151    1\n",
       "152    1\n",
       "185    1\n",
       "138    1\n",
       "107    1\n",
       "174    1\n",
       "110    1\n",
       "159    1\n",
       "Name: 매출액(만원), dtype: int64"
      ]
     },
     "metadata": {},
     "execution_count": 17
    }
   ],
   "source": [
    "# Series.value_counts() : 지정된 컬럼의 데이터 값의 개수를 알려줍니다.\n",
    "# -> value_counts()는 Series(데이터프레임의 하나의 열) 형태의 데이터에만 사용 가능합니다.\n",
    "df['매출액(만원)'].value_counts()"
   ]
  },
  {
   "source": [
    "## 5. 데이터프레임 슬라이싱"
   ],
   "cell_type": "markdown",
   "metadata": {}
  },
  {
   "cell_type": "code",
   "execution_count": 18,
   "metadata": {},
   "outputs": [
    {
     "output_type": "stream",
     "name": "stdout",
     "text": [
      "0     2010\n1     2011\n2     2012\n3     2013\n4     2014\n5     2015\n6     2016\n7     2017\n8     2018\n9     2019\n10    2020\n11    2021\nName: 연도, dtype: int64 \n\n2016 \n\n113 \n\n     연도  매출액(만원)\n2  2012      185\n"
     ]
    }
   ],
   "source": [
    "# 1. 가장 기본적인 DataFrame[]방식\n",
    "print(df['연도'],'\\n')\n",
    "\n",
    "# 2. DataFrame.iloc[로우 인덱스,칼럼 인덱스]방식\n",
    "print(df.iloc[6,0],'\\n')\n",
    "\n",
    "# 3. DataFrame.loc[로우 인덱스, 칼럼명]방식\n",
    "print(df.loc[6,'매출액(만원)'],'\\n')\n",
    "\n",
    "# 4. 불린 인덱싱 방식\n",
    "print(df[df['매출액(만원)']==df['매출액(만원)'].max()])"
   ]
  },
  {
   "source": [
    "## 6. 데이터프레임 조작하기\n",
    "#### (1) row, column변경하기"
   ],
   "cell_type": "markdown",
   "metadata": {}
  },
  {
   "cell_type": "code",
   "execution_count": 19,
   "metadata": {},
   "outputs": [
    {
     "output_type": "execute_result",
     "data": {
      "text/plain": [
       "      봄  여름  가을  겨울\n",
       "0   NaN  39  25   9\n",
       "1  27.0  41  23  10\n",
       "2  22.0  42  20   8\n",
       "3  25.0  37  21  11"
      ],
      "text/html": "<div>\n<style scoped>\n    .dataframe tbody tr th:only-of-type {\n        vertical-align: middle;\n    }\n\n    .dataframe tbody tr th {\n        vertical-align: top;\n    }\n\n    .dataframe thead th {\n        text-align: right;\n    }\n</style>\n<table border=\"1\" class=\"dataframe\">\n  <thead>\n    <tr style=\"text-align: right;\">\n      <th></th>\n      <th>봄</th>\n      <th>여름</th>\n      <th>가을</th>\n      <th>겨울</th>\n    </tr>\n  </thead>\n  <tbody>\n    <tr>\n      <th>0</th>\n      <td>NaN</td>\n      <td>39</td>\n      <td>25</td>\n      <td>9</td>\n    </tr>\n    <tr>\n      <th>1</th>\n      <td>27.0</td>\n      <td>41</td>\n      <td>23</td>\n      <td>10</td>\n    </tr>\n    <tr>\n      <th>2</th>\n      <td>22.0</td>\n      <td>42</td>\n      <td>20</td>\n      <td>8</td>\n    </tr>\n    <tr>\n      <th>3</th>\n      <td>25.0</td>\n      <td>37</td>\n      <td>21</td>\n      <td>11</td>\n    </tr>\n  </tbody>\n</table>\n</div>"
     },
     "metadata": {},
     "execution_count": 19
    }
   ],
   "source": [
    "df_weather=pd.DataFrame([\n",
    "    {'봄':np.nan,\n",
    "    '여름':39,\n",
    "    '가을':25,\n",
    "    '겨울':9},\n",
    "    {'봄':27,\n",
    "    '여름':41,\n",
    "    '가을':23,\n",
    "    '겨울':10},\n",
    "    {'봄':22,\n",
    "    '여름':42,\n",
    "    '가을':20,\n",
    "    '겨울':8},\n",
    "    {'봄':25,\n",
    "    '여름':37,\n",
    "    '가을':21,\n",
    "    '겨울':11}\n",
    "])\n",
    "df_weather"
   ]
  },
  {
   "cell_type": "code",
   "execution_count": 20,
   "metadata": {},
   "outputs": [
    {
     "output_type": "execute_result",
     "data": {
      "text/plain": [
       "       0     1     2     3\n",
       "봄    NaN  27.0  22.0  25.0\n",
       "여름  39.0  41.0  42.0  37.0\n",
       "가을  25.0  23.0  20.0  21.0\n",
       "겨울   9.0  10.0   8.0  11.0"
      ],
      "text/html": "<div>\n<style scoped>\n    .dataframe tbody tr th:only-of-type {\n        vertical-align: middle;\n    }\n\n    .dataframe tbody tr th {\n        vertical-align: top;\n    }\n\n    .dataframe thead th {\n        text-align: right;\n    }\n</style>\n<table border=\"1\" class=\"dataframe\">\n  <thead>\n    <tr style=\"text-align: right;\">\n      <th></th>\n      <th>0</th>\n      <th>1</th>\n      <th>2</th>\n      <th>3</th>\n    </tr>\n  </thead>\n  <tbody>\n    <tr>\n      <th>봄</th>\n      <td>NaN</td>\n      <td>27.0</td>\n      <td>22.0</td>\n      <td>25.0</td>\n    </tr>\n    <tr>\n      <th>여름</th>\n      <td>39.0</td>\n      <td>41.0</td>\n      <td>42.0</td>\n      <td>37.0</td>\n    </tr>\n    <tr>\n      <th>가을</th>\n      <td>25.0</td>\n      <td>23.0</td>\n      <td>20.0</td>\n      <td>21.0</td>\n    </tr>\n    <tr>\n      <th>겨울</th>\n      <td>9.0</td>\n      <td>10.0</td>\n      <td>8.0</td>\n      <td>11.0</td>\n    </tr>\n  </tbody>\n</table>\n</div>"
     },
     "metadata": {},
     "execution_count": 20
    }
   ],
   "source": [
    "# 전치\n",
    "df_weather.transpose()\n",
    "df_weather.T"
   ]
  },
  {
   "cell_type": "code",
   "execution_count": 21,
   "metadata": {},
   "outputs": [
    {
     "output_type": "execute_result",
     "data": {
      "text/plain": [
       "      봄  가을  여름  겨울\n",
       "0   NaN  25  39   9\n",
       "1  27.0  23  41  10\n",
       "2  22.0  20  42   8\n",
       "3  25.0  21  37  11"
      ],
      "text/html": "<div>\n<style scoped>\n    .dataframe tbody tr th:only-of-type {\n        vertical-align: middle;\n    }\n\n    .dataframe tbody tr th {\n        vertical-align: top;\n    }\n\n    .dataframe thead th {\n        text-align: right;\n    }\n</style>\n<table border=\"1\" class=\"dataframe\">\n  <thead>\n    <tr style=\"text-align: right;\">\n      <th></th>\n      <th>봄</th>\n      <th>가을</th>\n      <th>여름</th>\n      <th>겨울</th>\n    </tr>\n  </thead>\n  <tbody>\n    <tr>\n      <th>0</th>\n      <td>NaN</td>\n      <td>25</td>\n      <td>39</td>\n      <td>9</td>\n    </tr>\n    <tr>\n      <th>1</th>\n      <td>27.0</td>\n      <td>23</td>\n      <td>41</td>\n      <td>10</td>\n    </tr>\n    <tr>\n      <th>2</th>\n      <td>22.0</td>\n      <td>20</td>\n      <td>42</td>\n      <td>8</td>\n    </tr>\n    <tr>\n      <th>3</th>\n      <td>25.0</td>\n      <td>21</td>\n      <td>37</td>\n      <td>11</td>\n    </tr>\n  </tbody>\n</table>\n</div>"
     },
     "metadata": {},
     "execution_count": 21
    }
   ],
   "source": [
    "# 순서변경 DataFrame[[바꿀 순서]]\n",
    "df_weather[['봄','가을','여름','겨울']] # column의 순서를 변경"
   ]
  },
  {
   "cell_type": "code",
   "execution_count": 22,
   "metadata": {},
   "outputs": [
    {
     "output_type": "execute_result",
     "data": {
      "text/plain": [
       "      봄  여름  가을  겨울\n",
       "3  25.0  37  21  11\n",
       "0   NaN  39  25   9"
      ],
      "text/html": "<div>\n<style scoped>\n    .dataframe tbody tr th:only-of-type {\n        vertical-align: middle;\n    }\n\n    .dataframe tbody tr th {\n        vertical-align: top;\n    }\n\n    .dataframe thead th {\n        text-align: right;\n    }\n</style>\n<table border=\"1\" class=\"dataframe\">\n  <thead>\n    <tr style=\"text-align: right;\">\n      <th></th>\n      <th>봄</th>\n      <th>여름</th>\n      <th>가을</th>\n      <th>겨울</th>\n    </tr>\n  </thead>\n  <tbody>\n    <tr>\n      <th>3</th>\n      <td>25.0</td>\n      <td>37</td>\n      <td>21</td>\n      <td>11</td>\n    </tr>\n    <tr>\n      <th>0</th>\n      <td>NaN</td>\n      <td>39</td>\n      <td>25</td>\n      <td>9</td>\n    </tr>\n  </tbody>\n</table>\n</div>"
     },
     "metadata": {},
     "execution_count": 22
    }
   ],
   "source": [
    "df_weather.loc[[3,0]] # row의 순서 변경 "
   ]
  },
  {
   "source": [
    "#### (2) row, column 추가하기"
   ],
   "cell_type": "markdown",
   "metadata": {}
  },
  {
   "cell_type": "code",
   "execution_count": 23,
   "metadata": {},
   "outputs": [
    {
     "output_type": "execute_result",
     "data": {
      "text/plain": [
       "      봄    여름    가을    겨울\n",
       "0   NaN  39.0  25.0   9.0\n",
       "1  27.0  41.0  23.0  10.0\n",
       "2  22.0  42.0  20.0   8.0\n",
       "3  25.0  37.0  21.0  11.0\n",
       "4   NaN   NaN  23.0   9.0"
      ],
      "text/html": "<div>\n<style scoped>\n    .dataframe tbody tr th:only-of-type {\n        vertical-align: middle;\n    }\n\n    .dataframe tbody tr th {\n        vertical-align: top;\n    }\n\n    .dataframe thead th {\n        text-align: right;\n    }\n</style>\n<table border=\"1\" class=\"dataframe\">\n  <thead>\n    <tr style=\"text-align: right;\">\n      <th></th>\n      <th>봄</th>\n      <th>여름</th>\n      <th>가을</th>\n      <th>겨울</th>\n    </tr>\n  </thead>\n  <tbody>\n    <tr>\n      <th>0</th>\n      <td>NaN</td>\n      <td>39.0</td>\n      <td>25.0</td>\n      <td>9.0</td>\n    </tr>\n    <tr>\n      <th>1</th>\n      <td>27.0</td>\n      <td>41.0</td>\n      <td>23.0</td>\n      <td>10.0</td>\n    </tr>\n    <tr>\n      <th>2</th>\n      <td>22.0</td>\n      <td>42.0</td>\n      <td>20.0</td>\n      <td>8.0</td>\n    </tr>\n    <tr>\n      <th>3</th>\n      <td>25.0</td>\n      <td>37.0</td>\n      <td>21.0</td>\n      <td>11.0</td>\n    </tr>\n    <tr>\n      <th>4</th>\n      <td>NaN</td>\n      <td>NaN</td>\n      <td>23.0</td>\n      <td>9.0</td>\n    </tr>\n  </tbody>\n</table>\n</div>"
     },
     "metadata": {},
     "execution_count": 23
    }
   ],
   "source": [
    "# df.append(df): 행 추가하기\n",
    "data={'봄':np.nan,'여름':np.nan,'가을':23,'겨울':9}\n",
    "df_weather.append(data, ignore_index=True)"
   ]
  },
  {
   "cell_type": "code",
   "execution_count": 24,
   "metadata": {},
   "outputs": [
    {
     "output_type": "execute_result",
     "data": {
      "text/plain": [
       "     연도     봄  여름  가을  겨울\n",
       "0  2017   NaN  39  25   9\n",
       "1  2018  27.0  41  23  10\n",
       "2  2019  22.0  42  20   8\n",
       "3  2020  25.0  37  21  11"
      ],
      "text/html": "<div>\n<style scoped>\n    .dataframe tbody tr th:only-of-type {\n        vertical-align: middle;\n    }\n\n    .dataframe tbody tr th {\n        vertical-align: top;\n    }\n\n    .dataframe thead th {\n        text-align: right;\n    }\n</style>\n<table border=\"1\" class=\"dataframe\">\n  <thead>\n    <tr style=\"text-align: right;\">\n      <th></th>\n      <th>연도</th>\n      <th>봄</th>\n      <th>여름</th>\n      <th>가을</th>\n      <th>겨울</th>\n    </tr>\n  </thead>\n  <tbody>\n    <tr>\n      <th>0</th>\n      <td>2017</td>\n      <td>NaN</td>\n      <td>39</td>\n      <td>25</td>\n      <td>9</td>\n    </tr>\n    <tr>\n      <th>1</th>\n      <td>2018</td>\n      <td>27.0</td>\n      <td>41</td>\n      <td>23</td>\n      <td>10</td>\n    </tr>\n    <tr>\n      <th>2</th>\n      <td>2019</td>\n      <td>22.0</td>\n      <td>42</td>\n      <td>20</td>\n      <td>8</td>\n    </tr>\n    <tr>\n      <th>3</th>\n      <td>2020</td>\n      <td>25.0</td>\n      <td>37</td>\n      <td>21</td>\n      <td>11</td>\n    </tr>\n  </tbody>\n</table>\n</div>"
     },
     "metadata": {},
     "execution_count": 24
    }
   ],
   "source": [
    "# df['칼럼명']=seq_data: 열 추가하기\n",
    "df_weather['연도']=[2017,2018,2019,2020]\n",
    "df_weather=df_weather[['연도','봄','여름','가을','겨울']]\n",
    "df_weather"
   ]
  },
  {
   "source": [
    "#### (3) 데이터프레임 합치기"
   ],
   "cell_type": "markdown",
   "metadata": {}
  },
  {
   "cell_type": "code",
   "execution_count": 25,
   "metadata": {},
   "outputs": [
    {
     "output_type": "execute_result",
     "data": {
      "text/plain": [
       "     연도     봄  여름  가을  겨울   강수량\n",
       "0  2017   NaN  39  25   9  1230\n",
       "1  2019  22.0  42  20   8  1524"
      ],
      "text/html": "<div>\n<style scoped>\n    .dataframe tbody tr th:only-of-type {\n        vertical-align: middle;\n    }\n\n    .dataframe tbody tr th {\n        vertical-align: top;\n    }\n\n    .dataframe thead th {\n        text-align: right;\n    }\n</style>\n<table border=\"1\" class=\"dataframe\">\n  <thead>\n    <tr style=\"text-align: right;\">\n      <th></th>\n      <th>연도</th>\n      <th>봄</th>\n      <th>여름</th>\n      <th>가을</th>\n      <th>겨울</th>\n      <th>강수량</th>\n    </tr>\n  </thead>\n  <tbody>\n    <tr>\n      <th>0</th>\n      <td>2017</td>\n      <td>NaN</td>\n      <td>39</td>\n      <td>25</td>\n      <td>9</td>\n      <td>1230</td>\n    </tr>\n    <tr>\n      <th>1</th>\n      <td>2019</td>\n      <td>22.0</td>\n      <td>42</td>\n      <td>20</td>\n      <td>8</td>\n      <td>1524</td>\n    </tr>\n  </tbody>\n</table>\n</div>"
     },
     "metadata": {},
     "execution_count": 25
    }
   ],
   "source": [
    "# df.merge(df2, how='조인 방법', on='칼럼명'): 다른 데이터프레임이랑 합치기\n",
    "df_precipitation=pd.DataFrame([{'연도':2017,'강수량':1230},{'연도':2019,'강수량':1524}])\n",
    "\n",
    "# 내부조인: nan값이 생기면 결합X\n",
    "df_weather.merge(df_precipitation,how='inner',on='연도')"
   ]
  },
  {
   "cell_type": "code",
   "execution_count": 26,
   "metadata": {},
   "outputs": [
    {
     "output_type": "execute_result",
     "data": {
      "text/plain": [
       "     연도     봄  여름  가을  겨울     강수량\n",
       "0  2017   NaN  39  25   9  1230.0\n",
       "1  2018  27.0  41  23  10     NaN\n",
       "2  2019  22.0  42  20   8  1524.0\n",
       "3  2020  25.0  37  21  11     NaN"
      ],
      "text/html": "<div>\n<style scoped>\n    .dataframe tbody tr th:only-of-type {\n        vertical-align: middle;\n    }\n\n    .dataframe tbody tr th {\n        vertical-align: top;\n    }\n\n    .dataframe thead th {\n        text-align: right;\n    }\n</style>\n<table border=\"1\" class=\"dataframe\">\n  <thead>\n    <tr style=\"text-align: right;\">\n      <th></th>\n      <th>연도</th>\n      <th>봄</th>\n      <th>여름</th>\n      <th>가을</th>\n      <th>겨울</th>\n      <th>강수량</th>\n    </tr>\n  </thead>\n  <tbody>\n    <tr>\n      <th>0</th>\n      <td>2017</td>\n      <td>NaN</td>\n      <td>39</td>\n      <td>25</td>\n      <td>9</td>\n      <td>1230.0</td>\n    </tr>\n    <tr>\n      <th>1</th>\n      <td>2018</td>\n      <td>27.0</td>\n      <td>41</td>\n      <td>23</td>\n      <td>10</td>\n      <td>NaN</td>\n    </tr>\n    <tr>\n      <th>2</th>\n      <td>2019</td>\n      <td>22.0</td>\n      <td>42</td>\n      <td>20</td>\n      <td>8</td>\n      <td>1524.0</td>\n    </tr>\n    <tr>\n      <th>3</th>\n      <td>2020</td>\n      <td>25.0</td>\n      <td>37</td>\n      <td>21</td>\n      <td>11</td>\n      <td>NaN</td>\n    </tr>\n  </tbody>\n</table>\n</div>"
     },
     "metadata": {},
     "execution_count": 26
    }
   ],
   "source": [
    "# 외부조인: nan값이 있어도 결합\n",
    "df_weather=df_weather.merge(df_precipitation,how='outer',on='연도')\n",
    "df_weather"
   ]
  },
  {
   "source": [
    "#### (4) 데이터프레임 전처리하기"
   ],
   "cell_type": "markdown",
   "metadata": {}
  },
  {
   "cell_type": "code",
   "execution_count": 27,
   "metadata": {},
   "outputs": [
    {
     "output_type": "execute_result",
     "data": {
      "text/plain": [
       "연도     0\n",
       "봄      1\n",
       "여름     0\n",
       "가을     0\n",
       "겨울     0\n",
       "강수량    2\n",
       "dtype: int64"
      ]
     },
     "metadata": {},
     "execution_count": 27
    }
   ],
   "source": [
    "# df.isnull(): 데이터에 null값이 있으면 True 없으면 False를 반환합니다\n",
    "df_weather.isnull().sum()"
   ]
  },
  {
   "cell_type": "code",
   "execution_count": 28,
   "metadata": {},
   "outputs": [
    {
     "output_type": "execute_result",
     "data": {
      "text/plain": [
       "     연도          봄  여름  가을  겨울     강수량\n",
       "0  2017  24.666667  39  25   9  1230.0\n",
       "1  2018  27.000000  41  23  10     NaN\n",
       "2  2019  22.000000  42  20   8  1524.0\n",
       "3  2020  25.000000  37  21  11     NaN"
      ],
      "text/html": "<div>\n<style scoped>\n    .dataframe tbody tr th:only-of-type {\n        vertical-align: middle;\n    }\n\n    .dataframe tbody tr th {\n        vertical-align: top;\n    }\n\n    .dataframe thead th {\n        text-align: right;\n    }\n</style>\n<table border=\"1\" class=\"dataframe\">\n  <thead>\n    <tr style=\"text-align: right;\">\n      <th></th>\n      <th>연도</th>\n      <th>봄</th>\n      <th>여름</th>\n      <th>가을</th>\n      <th>겨울</th>\n      <th>강수량</th>\n    </tr>\n  </thead>\n  <tbody>\n    <tr>\n      <th>0</th>\n      <td>2017</td>\n      <td>24.666667</td>\n      <td>39</td>\n      <td>25</td>\n      <td>9</td>\n      <td>1230.0</td>\n    </tr>\n    <tr>\n      <th>1</th>\n      <td>2018</td>\n      <td>27.000000</td>\n      <td>41</td>\n      <td>23</td>\n      <td>10</td>\n      <td>NaN</td>\n    </tr>\n    <tr>\n      <th>2</th>\n      <td>2019</td>\n      <td>22.000000</td>\n      <td>42</td>\n      <td>20</td>\n      <td>8</td>\n      <td>1524.0</td>\n    </tr>\n    <tr>\n      <th>3</th>\n      <td>2020</td>\n      <td>25.000000</td>\n      <td>37</td>\n      <td>21</td>\n      <td>11</td>\n      <td>NaN</td>\n    </tr>\n  </tbody>\n</table>\n</div>"
     },
     "metadata": {},
     "execution_count": 28
    }
   ],
   "source": [
    "# df.fillna(): null값을 채워줍니다\n",
    "df_weather['봄'].fillna(df_weather['봄'].mean(), inplace=True) #inplace=True는 원본데이터를 바꿔줍니다\n",
    "df_weather"
   ]
  },
  {
   "cell_type": "code",
   "execution_count": 29,
   "metadata": {},
   "outputs": [
    {
     "output_type": "execute_result",
     "data": {
      "text/plain": [
       "     연도          봄  여름  가을  겨울\n",
       "0  2017  24.666667  39  25   9\n",
       "1  2018  27.000000  41  23  10\n",
       "2  2019  22.000000  42  20   8\n",
       "3  2020  25.000000  37  21  11"
      ],
      "text/html": "<div>\n<style scoped>\n    .dataframe tbody tr th:only-of-type {\n        vertical-align: middle;\n    }\n\n    .dataframe tbody tr th {\n        vertical-align: top;\n    }\n\n    .dataframe thead th {\n        text-align: right;\n    }\n</style>\n<table border=\"1\" class=\"dataframe\">\n  <thead>\n    <tr style=\"text-align: right;\">\n      <th></th>\n      <th>연도</th>\n      <th>봄</th>\n      <th>여름</th>\n      <th>가을</th>\n      <th>겨울</th>\n    </tr>\n  </thead>\n  <tbody>\n    <tr>\n      <th>0</th>\n      <td>2017</td>\n      <td>24.666667</td>\n      <td>39</td>\n      <td>25</td>\n      <td>9</td>\n    </tr>\n    <tr>\n      <th>1</th>\n      <td>2018</td>\n      <td>27.000000</td>\n      <td>41</td>\n      <td>23</td>\n      <td>10</td>\n    </tr>\n    <tr>\n      <th>2</th>\n      <td>2019</td>\n      <td>22.000000</td>\n      <td>42</td>\n      <td>20</td>\n      <td>8</td>\n    </tr>\n    <tr>\n      <th>3</th>\n      <td>2020</td>\n      <td>25.000000</td>\n      <td>37</td>\n      <td>21</td>\n      <td>11</td>\n    </tr>\n  </tbody>\n</table>\n</div>"
     },
     "metadata": {},
     "execution_count": 29
    }
   ],
   "source": [
    "# df.drop('칼람명',axis=): 데이터를 삭제합니다\n",
    "df_weather.drop('강수량',axis=1,inplace=True)\n",
    "df_weather"
   ]
  },
  {
   "cell_type": "code",
   "execution_count": 30,
   "metadata": {},
   "outputs": [
    {
     "output_type": "execute_result",
     "data": {
      "text/plain": [
       "     연도          봄  여름  가을  겨울\n",
       "2  2019  22.000000  42  20   8\n",
       "0  2017  24.666667  39  25   9\n",
       "1  2018  27.000000  41  23  10\n",
       "3  2020  25.000000  37  21  11"
      ],
      "text/html": "<div>\n<style scoped>\n    .dataframe tbody tr th:only-of-type {\n        vertical-align: middle;\n    }\n\n    .dataframe tbody tr th {\n        vertical-align: top;\n    }\n\n    .dataframe thead th {\n        text-align: right;\n    }\n</style>\n<table border=\"1\" class=\"dataframe\">\n  <thead>\n    <tr style=\"text-align: right;\">\n      <th></th>\n      <th>연도</th>\n      <th>봄</th>\n      <th>여름</th>\n      <th>가을</th>\n      <th>겨울</th>\n    </tr>\n  </thead>\n  <tbody>\n    <tr>\n      <th>2</th>\n      <td>2019</td>\n      <td>22.000000</td>\n      <td>42</td>\n      <td>20</td>\n      <td>8</td>\n    </tr>\n    <tr>\n      <th>0</th>\n      <td>2017</td>\n      <td>24.666667</td>\n      <td>39</td>\n      <td>25</td>\n      <td>9</td>\n    </tr>\n    <tr>\n      <th>1</th>\n      <td>2018</td>\n      <td>27.000000</td>\n      <td>41</td>\n      <td>23</td>\n      <td>10</td>\n    </tr>\n    <tr>\n      <th>3</th>\n      <td>2020</td>\n      <td>25.000000</td>\n      <td>37</td>\n      <td>21</td>\n      <td>11</td>\n    </tr>\n  </tbody>\n</table>\n</div>"
     },
     "metadata": {},
     "execution_count": 30
    }
   ],
   "source": [
    "# df.sort_values(by='칼럼명', ascending=True): 칼럼명 기준으로 오름차순 정렬합니다\n",
    "df_weather.sort_values(by='겨울')"
   ]
  },
  {
   "cell_type": "code",
   "execution_count": 31,
   "metadata": {},
   "outputs": [
    {
     "output_type": "execute_result",
     "data": {
      "text/plain": [
       "     연도          봄  여름  가을  겨울\n",
       "2  2019  22.000000  42  20   8\n",
       "1  2018  27.000000  41  23  10\n",
       "0  2017  24.666667  39  25   9\n",
       "3  2020  25.000000  37  21  11"
      ],
      "text/html": "<div>\n<style scoped>\n    .dataframe tbody tr th:only-of-type {\n        vertical-align: middle;\n    }\n\n    .dataframe tbody tr th {\n        vertical-align: top;\n    }\n\n    .dataframe thead th {\n        text-align: right;\n    }\n</style>\n<table border=\"1\" class=\"dataframe\">\n  <thead>\n    <tr style=\"text-align: right;\">\n      <th></th>\n      <th>연도</th>\n      <th>봄</th>\n      <th>여름</th>\n      <th>가을</th>\n      <th>겨울</th>\n    </tr>\n  </thead>\n  <tbody>\n    <tr>\n      <th>2</th>\n      <td>2019</td>\n      <td>22.000000</td>\n      <td>42</td>\n      <td>20</td>\n      <td>8</td>\n    </tr>\n    <tr>\n      <th>1</th>\n      <td>2018</td>\n      <td>27.000000</td>\n      <td>41</td>\n      <td>23</td>\n      <td>10</td>\n    </tr>\n    <tr>\n      <th>0</th>\n      <td>2017</td>\n      <td>24.666667</td>\n      <td>39</td>\n      <td>25</td>\n      <td>9</td>\n    </tr>\n    <tr>\n      <th>3</th>\n      <td>2020</td>\n      <td>25.000000</td>\n      <td>37</td>\n      <td>21</td>\n      <td>11</td>\n    </tr>\n  </tbody>\n</table>\n</div>"
     },
     "metadata": {},
     "execution_count": 31
    }
   ],
   "source": [
    "df_weather.sort_values(by='여름', ascending=False)"
   ]
  },
  {
   "cell_type": "code",
   "execution_count": 32,
   "metadata": {},
   "outputs": [
    {
     "output_type": "execute_result",
     "data": {
      "text/plain": [
       "     연도          봄  여름  가을  겨울 temp\n",
       "0  2017  24.666667  39  25   9    👌\n",
       "1  2018  27.000000  41  23  10    🥵\n",
       "2  2019  22.000000  42  20   8    🥵\n",
       "3  2020  25.000000  37  21  11    👌"
      ],
      "text/html": "<div>\n<style scoped>\n    .dataframe tbody tr th:only-of-type {\n        vertical-align: middle;\n    }\n\n    .dataframe tbody tr th {\n        vertical-align: top;\n    }\n\n    .dataframe thead th {\n        text-align: right;\n    }\n</style>\n<table border=\"1\" class=\"dataframe\">\n  <thead>\n    <tr style=\"text-align: right;\">\n      <th></th>\n      <th>연도</th>\n      <th>봄</th>\n      <th>여름</th>\n      <th>가을</th>\n      <th>겨울</th>\n      <th>temp</th>\n    </tr>\n  </thead>\n  <tbody>\n    <tr>\n      <th>0</th>\n      <td>2017</td>\n      <td>24.666667</td>\n      <td>39</td>\n      <td>25</td>\n      <td>9</td>\n      <td>👌</td>\n    </tr>\n    <tr>\n      <th>1</th>\n      <td>2018</td>\n      <td>27.000000</td>\n      <td>41</td>\n      <td>23</td>\n      <td>10</td>\n      <td>🥵</td>\n    </tr>\n    <tr>\n      <th>2</th>\n      <td>2019</td>\n      <td>22.000000</td>\n      <td>42</td>\n      <td>20</td>\n      <td>8</td>\n      <td>🥵</td>\n    </tr>\n    <tr>\n      <th>3</th>\n      <td>2020</td>\n      <td>25.000000</td>\n      <td>37</td>\n      <td>21</td>\n      <td>11</td>\n      <td>👌</td>\n    </tr>\n  </tbody>\n</table>\n</div>"
     },
     "metadata": {},
     "execution_count": 32
    }
   ],
   "source": [
    "# df[column].apply(func): 특정 칼럼 기준으로 함수를 적용합니다\n",
    "df_weather['temp']=df_weather['여름'].apply(lambda x: '🥵' if x>40 else '👌')\n",
    "df_weather"
   ]
  },
  {
   "source": [
    "## 7. 파일 읽고 쓰기"
   ],
   "cell_type": "markdown",
   "metadata": {}
  },
  {
   "cell_type": "code",
   "execution_count": 33,
   "metadata": {},
   "outputs": [],
   "source": [
    "# df.to_csv('파일 경로'): csv로 보내기 (excel도 가능)\n",
    "df_weather.to_csv('weather.csv')"
   ]
  },
  {
   "cell_type": "code",
   "execution_count": 34,
   "metadata": {},
   "outputs": [
    {
     "output_type": "execute_result",
     "data": {
      "text/plain": [
       "   Unnamed: 0    연도          봄  여름  가을  겨울 temp\n",
       "0           0  2017  24.666667  39  25   9    👌\n",
       "1           1  2018  27.000000  41  23  10    🥵\n",
       "2           2  2019  22.000000  42  20   8    🥵\n",
       "3           3  2020  25.000000  37  21  11    👌"
      ],
      "text/html": "<div>\n<style scoped>\n    .dataframe tbody tr th:only-of-type {\n        vertical-align: middle;\n    }\n\n    .dataframe tbody tr th {\n        vertical-align: top;\n    }\n\n    .dataframe thead th {\n        text-align: right;\n    }\n</style>\n<table border=\"1\" class=\"dataframe\">\n  <thead>\n    <tr style=\"text-align: right;\">\n      <th></th>\n      <th>Unnamed: 0</th>\n      <th>연도</th>\n      <th>봄</th>\n      <th>여름</th>\n      <th>가을</th>\n      <th>겨울</th>\n      <th>temp</th>\n    </tr>\n  </thead>\n  <tbody>\n    <tr>\n      <th>0</th>\n      <td>0</td>\n      <td>2017</td>\n      <td>24.666667</td>\n      <td>39</td>\n      <td>25</td>\n      <td>9</td>\n      <td>👌</td>\n    </tr>\n    <tr>\n      <th>1</th>\n      <td>1</td>\n      <td>2018</td>\n      <td>27.000000</td>\n      <td>41</td>\n      <td>23</td>\n      <td>10</td>\n      <td>🥵</td>\n    </tr>\n    <tr>\n      <th>2</th>\n      <td>2</td>\n      <td>2019</td>\n      <td>22.000000</td>\n      <td>42</td>\n      <td>20</td>\n      <td>8</td>\n      <td>🥵</td>\n    </tr>\n    <tr>\n      <th>3</th>\n      <td>3</td>\n      <td>2020</td>\n      <td>25.000000</td>\n      <td>37</td>\n      <td>21</td>\n      <td>11</td>\n      <td>👌</td>\n    </tr>\n  </tbody>\n</table>\n</div>"
     },
     "metadata": {},
     "execution_count": 34
    }
   ],
   "source": [
    "# pd.read_csv('파일경로'): csv파일 읽기 (excel도 가능)\n",
    "pd.read_csv('weather.csv')"
   ]
  }
 ],
 "metadata": {
  "kernelspec": {
   "name": "python386jvsc74a57bd0aee8b7b246df8f9039afb4144a1f6fd8d2ca17a180786b69acc140d282b71a49",
   "display_name": "Python 3.8.6 64-bit"
  },
  "language_info": {
   "codemirror_mode": {
    "name": "ipython",
    "version": 3
   },
   "file_extension": ".py",
   "mimetype": "text/x-python",
   "name": "python",
   "nbconvert_exporter": "python",
   "pygments_lexer": "ipython3",
   "version": "3.8.6"
  },
  "metadata": {
   "interpreter": {
    "hash": "aee8b7b246df8f9039afb4144a1f6fd8d2ca17a180786b69acc140d282b71a49"
   }
  }
 },
 "nbformat": 4,
 "nbformat_minor": 5
}