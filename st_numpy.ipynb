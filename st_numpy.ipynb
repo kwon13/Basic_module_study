{
 "cells": [
  {
   "source": [
    "# Numpy\n",
    "numpy란 python에서 데이터 과학 및 데이터 분석에 도움을 주는 패키지 입니다  \n",
    "다차원 배열 데이터, 행렬 계산을 훨씬 효과적으로 계산할 수 있습니다!"
   ],
   "cell_type": "markdown",
   "metadata": {}
  },
  {
   "cell_type": "code",
   "execution_count": 1,
   "metadata": {},
   "outputs": [
    {
     "output_type": "stream",
     "name": "stdout",
     "text": [
      "Requirement already satisfied: numpy in /opt/anaconda3/lib/python3.8/site-packages (1.20.1)\n"
     ]
    }
   ],
   "source": [
    "#먼저 numpy를 설치 후 불러옵니다\n",
    "!pip install numpy\n",
    "import numpy as np # 관례적으로 줄여서 np로 사용합니다( as는 모듈의 별명을 지정합니다)"
   ]
  },
  {
   "source": [
    "## 1. 넘파이 배열 생성\n",
    "np.array: 인자로 itterable한 객체를 받고 넘파이의 array형식으로 반환합니다"
   ],
   "cell_type": "markdown",
   "metadata": {}
  },
  {
   "cell_type": "code",
   "execution_count": 2,
   "metadata": {},
   "outputs": [
    {
     "output_type": "execute_result",
     "data": {
      "text/plain": [
       "array([1, 2, 3, 4])"
      ]
     },
     "metadata": {},
     "execution_count": 2
    }
   ],
   "source": [
    "np.array([1,2,3,4])"
   ]
  },
  {
   "cell_type": "code",
   "execution_count": 3,
   "metadata": {},
   "outputs": [
    {
     "output_type": "stream",
     "name": "stdout",
     "text": [
      "arr1: [0 1 2 3 4 5 6 7 8 9]\narr2: [ 0.15110129  0.57577258  0.3785035   0.20038896 -0.97131914 -0.36293076\n  0.41514065 -0.13193545 -0.62203862 -0.17843147]\n"
     ]
    }
   ],
   "source": [
    "# 다양한 array생성\n",
    "import random\n",
    "arr1=np.array(range(10))\n",
    "arr2=np.array([random.uniform(-1,1) for i in range(10)])\n",
    "\n",
    "print('arr1:',arr1)\n",
    "print('arr2:',arr2)"
   ]
  },
  {
   "source": [
    "넘파이 배열은 요소의 모든 데이터 타입이 동일하게 됩니다!  \n",
    "nd.dtype은 넘파이 배열의 데이터 타입을 반환합니다"
   ],
   "cell_type": "markdown",
   "metadata": {}
  },
  {
   "cell_type": "code",
   "execution_count": 4,
   "metadata": {},
   "outputs": [
    {
     "output_type": "stream",
     "name": "stdout",
     "text": [
      "arr3: [ 1.  -2.   0.3  4.   2. ] float64\narr4: [1 '2' 'a' 'b' {1, 2, 3} 2.0 32.4] object\n"
     ]
    }
   ],
   "source": [
    "arr3=np.array([1,-2,0.3,4,2]) # 나머지 int형 요소도 float형으로 변경된 것을 확인할 수 있습니다!\n",
    "arr4=np.array([1,'2','a','b',{1,2,3},2.0,32.4])\n",
    "\n",
    "print('arr3:',arr3,arr3.dtype)\n",
    "print('arr4:',arr4,arr4.dtype)"
   ]
  },
  {
   "cell_type": "code",
   "execution_count": 5,
   "metadata": {},
   "outputs": [
    {
     "output_type": "stream",
     "name": "stdout",
     "text": [
      "(2, 3)\n(1, 3, 3)\n"
     ]
    }
   ],
   "source": [
    "# nd.shape 넘파이 배열의 형태를 반환합니다\n",
    "arr5=np.array([[1,2,3],\n",
    "                [4,5,6]])\n",
    "\n",
    "arr6=np.array([[[1,2,3],[4,5,6],[7,8,9]]])\n",
    "print(arr5.shape)\n",
    "print(arr6.shape)"
   ]
  },
  {
   "cell_type": "code",
   "execution_count": 6,
   "metadata": {},
   "outputs": [
    {
     "output_type": "stream",
     "name": "stdout",
     "text": [
      "arr는 2차원 배열입니다\n"
     ]
    }
   ],
   "source": [
    "#np.ndim: 넘파이 배열의 차원 수를 반환합니다\n",
    "arr=np.array([range(10),\n",
    "            range(10,20),\n",
    "            range(20,30)])\n",
    "            \n",
    "print('arr는 %d차원 배열입니다'%(arr.ndim))"
   ]
  },
  {
   "cell_type": "code",
   "execution_count": 7,
   "metadata": {},
   "outputs": [
    {
     "output_type": "execute_result",
     "data": {
      "text/plain": [
       "array([  0,  10,  20,  30,  40,  50,  60,  70,  80,  90, 100])"
      ]
     },
     "metadata": {},
     "execution_count": 7
    }
   ],
   "source": [
    "# np.arange: 파이썬의 arange와 사용방법이 같으며 넘파이 배열을 반환합니다\n",
    "np.arange(0,101,10)"
   ]
  },
  {
   "cell_type": "code",
   "execution_count": 8,
   "metadata": {},
   "outputs": [
    {
     "output_type": "stream",
     "name": "stdout",
     "text": [
      "[  0.  10.  20.  30.  40.  50.  60.  70.  80.  90. 100.]\n[ 5.         10.27272727 15.54545455 20.81818182 26.09090909 31.36363636\n 36.63636364 41.90909091 47.18181818 52.45454545 57.72727273 63.        ]\n[50. 51. 52. 53. 54. 55. 56. 57. 58. 59. 60. 61. 62. 63. 64. 65. 66. 67.\n 68. 69. 70. 71. 72. 73. 74. 75. 76. 77. 78. 79. 80. 81. 82. 83. 84. 85.\n 86. 87. 88. 89. 90. 91. 92. 93. 94. 95. 96. 97. 98. 99.]\n"
     ]
    }
   ],
   "source": [
    "# np.linspace(start, end, num=50, endpoint=True): num개의 동일한 편차를 갖는 배열을 반환합니다 (endpoint는 마지막 값에 end를 포함할 지 여부입니다)\n",
    "print(np.linspace(0,100,11,endpoint=True))\n",
    "print(np.linspace(5,63,12))\n",
    "print(np.linspace(50,100,endpoint=False))"
   ]
  },
  {
   "cell_type": "code",
   "execution_count": 9,
   "metadata": {},
   "outputs": [
    {
     "output_type": "execute_result",
     "data": {
      "text/plain": [
       "array([[[0.6607953 , 0.95708742, 0.18723084, 0.05072498, 0.58101578]]])"
      ]
     },
     "metadata": {},
     "execution_count": 9
    }
   ],
   "source": [
    "# np.random.rand(d,d1,d2...): 0과 1사이의 난수를 생성하며 인자의 수 만큼의 차원을 가진 배열을 생성합니다\n",
    "np.random.rand(1,1,5)"
   ]
  },
  {
   "cell_type": "code",
   "execution_count": 10,
   "metadata": {},
   "outputs": [
    {
     "output_type": "execute_result",
     "data": {
      "text/plain": [
       "array([[8, 2, 2, 3, 1],\n",
       "       [2, 2, 8, 3, 4]])"
      ]
     },
     "metadata": {},
     "execution_count": 10
    }
   ],
   "source": [
    "# np.random.randint(low,high,size): low와 high-1사이의 수 중에서 size 형태의 넘파이 배열을 생성합니다 \n",
    "np.random.randint(1,10,(2,5))"
   ]
  },
  {
   "cell_type": "code",
   "execution_count": 11,
   "metadata": {},
   "outputs": [
    {
     "output_type": "execute_result",
     "data": {
      "text/plain": [
       "array([ 1.09709471, -0.91579154,  3.19544298, -0.34059103,  1.32013411,\n",
       "       -0.74390375,  1.81488091, -0.92427946,  2.39127569,  0.46099738])"
      ]
     },
     "metadata": {},
     "execution_count": 11
    }
   ],
   "source": [
    "# np.random.randn(d,d1,d2...): 평균이 0 표준편차가 1인 전규분포에서 인자의 수 만큼의 차원을 가진 배열을 생성합니다\n",
    "np.random.randn(10)"
   ]
  },
  {
   "source": [
    "## 2. 넘파이 배열 형태변경\n",
    "shape함수로 넘파이 배열의 형태를 변경할 수 있습니다"
   ],
   "cell_type": "markdown",
   "metadata": {}
  },
  {
   "cell_type": "code",
   "execution_count": 12,
   "metadata": {},
   "outputs": [
    {
     "output_type": "stream",
     "name": "stdout",
     "text": [
      "변경 전: (10,)\n변경 후:\n [[ 2  4  6  8 10]\n [12 14 16 18 20]] (2, 5)\n"
     ]
    }
   ],
   "source": [
    "# 새로운 배열 생성\n",
    "even_number=np.arange(2,21,2)\n",
    "print('변경 전:',even_number.shape)\n",
    "even_number.shape=(2,5)\n",
    "print('변경 후:\\n', even_number, even_number.shape)"
   ]
  },
  {
   "cell_type": "code",
   "execution_count": 13,
   "metadata": {},
   "outputs": [
    {
     "output_type": "stream",
     "name": "stdout",
     "text": [
      "array_ex1:\n [0 1 2 3 4 5 6 7 8 9]\n\narray_ex2:\n [[0 1 2 3 4]\n [5 6 7 8 9]]\n\narray_ex3:\n [[0 1]\n [2 3]\n [4 5]\n [6 7]\n [8 9]]\n\narray_ex4:\n [[0 1 2 3 4]\n [5 6 7 8 9]]\n---> (2, 5) \n여기서 -1이 2로 변경\n\narray_ex5:\n [[0 1 2 3 4]\n [5 6 7 8 9]]\n---> (2, 5) \n여기서 -1이 5로 변경\n"
     ]
    }
   ],
   "source": [
    "# reshape(): ndarray의 차원과 크기를 변경합니다.\n",
    "\n",
    "array_ex1 = np.arange(10)\n",
    "print('array_ex1:\\n', array_ex1)\n",
    "\n",
    "# 쉽게 10 개의 값을 5개씩 2세트로 이해\n",
    "array_ex2 = array_ex1.reshape(2, 5)\n",
    "print('\\narray_ex2:\\n', array_ex2)\n",
    "# 쉽게 10 개의 값을 2개씩 5세트로 이해\n",
    "array_ex3 = array_ex1.reshape(5, 2)\n",
    "print('\\narray_ex3:\\n', array_ex3)\n",
    "\n",
    "# 만약 array_ex1.reshape(4, 2)처럼 변경이 불가능하면 오류를 발생시킵니다.\n",
    "\n",
    "# -1은 알아서 호환되는 값으로 변경되어 ndarray로 만들어줍니다.\n",
    "array_ex4 = array_ex1.reshape(-1, 5)\n",
    "print('\\narray_ex4:\\n', array_ex4)\n",
    "print('--->',array_ex4.shape, '\\n여기서 -1이 2로 변경')\n",
    "array_ex5 = array_ex1.reshape(2, -1)\n",
    "print('\\narray_ex5:\\n', array_ex5)\n",
    "print('--->',array_ex5.shape, '\\n여기서 -1이 5로 변경')\n",
    "\n",
    "# 마찬가지로 array_ex1.reshape(4, -1)처럼 변경이 불가능하면 오류를 발생시킵니다."
   ]
  },
  {
   "source": [
    "shape를 통한 배열 변경은 원본 배열을 변경시키지만  \n",
    "reshape는 변경 배열을 반환만 합니다"
   ],
   "cell_type": "markdown",
   "metadata": {}
  },
  {
   "cell_type": "code",
   "execution_count": 14,
   "metadata": {},
   "outputs": [
    {
     "output_type": "execute_result",
     "data": {
      "text/plain": [
       "array([1.2, 1.0, -0.2], dtype=object)"
      ]
     },
     "metadata": {},
     "execution_count": 14
    }
   ],
   "source": [
    "# nd.astype(dtype): 넘파이 배열의 데이터 타입을 변경합니다\n",
    "arr=np.array([1.2,1,-0.2])\n",
    "arr.astype('object')"
   ]
  },
  {
   "cell_type": "code",
   "execution_count": 15,
   "metadata": {},
   "outputs": [
    {
     "output_type": "stream",
     "name": "stdout",
     "text": [
      "[[0. 0. 0. 0. 0.]\n [0. 0. 0. 0. 0.]]\n[[[1. 1. 1.]\n  [1. 1. 1.]\n  [1. 1. 1.]]]\n"
     ]
    }
   ],
   "source": [
    "# np.zeros(size), np.ones(size): size 형태의 모두 0으로 된(1로 된)넘파이 배열을 생성합니다\n",
    "print(np.zeros((2,5)))\n",
    "print(np.ones((1,3,3)))"
   ]
  },
  {
   "cell_type": "code",
   "execution_count": 16,
   "metadata": {},
   "outputs": [
    {
     "output_type": "stream",
     "name": "stdout",
     "text": [
      "원본 행렬: [3 1 8 4]\n\n[1 3 4 8]\norg_array가 바뀌지 않았습니다: [3 1 8 4]\n\nNone\norg_array가 바뀌었습니다: [1 3 4 8]\n\n내림차순으로 정렬되었습니다: [8 4 3 1]\n"
     ]
    }
   ],
   "source": [
    "# np.sort(), ndarray.sort()함수: 행렬을 정리하는 함수입니다.\n",
    "org_array = np.array([3, 1, 8, 4])\n",
    "print('원본 행렬:', org_array)\n",
    "print()\n",
    "\n",
    "# np.sort()함수를 사용하면 원래의 행렬은 그대로 유지한 채 정렬합니다\n",
    "print(np.sort(org_array))\n",
    "print('org_array가 바뀌지 않았습니다:',org_array)\n",
    "print()\n",
    "\n",
    "# ndarray.sort()함수를 사용하면 원래의 행렬을 정렬합니다.\n",
    "print(org_array.sort())\n",
    "print('org_array가 바뀌었습니다:',org_array)\n",
    "print()\n",
    "\n",
    "# 내림차순으로 정렬하기 위해서는 [::-1]을 적용하면 됩니다.\n",
    "down_array = np.sort(org_array)[::-1]\n",
    "print('내림차순으로 정렬되었습니다:',down_array)"
   ]
  },
  {
   "source": [
    "## 3. 넘파이 배열 인덱싱"
   ],
   "cell_type": "markdown",
   "metadata": {}
  },
  {
   "cell_type": "code",
   "execution_count": 17,
   "metadata": {},
   "outputs": [
    {
     "output_type": "execute_result",
     "data": {
      "text/plain": [
       "array([nan, inf])"
      ]
     },
     "metadata": {},
     "execution_count": 17
    }
   ],
   "source": [
    "# np.nan: not of number(null값), np.inf: infinity(무한)\n",
    "arr=np.array([np.nan, np.inf, 20,-30.])\n",
    "arr[0:2]"
   ]
  },
  {
   "cell_type": "code",
   "execution_count": 18,
   "metadata": {},
   "outputs": [
    {
     "output_type": "stream",
     "name": "stdout",
     "text": [
      "2\n\n[8 1 2 3 4 5 6 7 8 9]\n\n[[0 1]\n [2 3]\n [4 5]\n [6 7]\n [8 9]]\n(row=1, col=0) index 가리키는 값:  2\n(row=3, col=1) index 가리키는 값:  7\n(row=4, col=1) index 가리키는 값:  9\n\n[0 1]\n[1 2 3 4 5 6 7 8 9]\n\n[[0 1]\n [2 3]\n [4 5]\n [6 7]\n [8 9]]\n(row=1~2, col=0~1) index 가리키는 값: \n [[2 3]\n [4 5]]\n"
     ]
    }
   ],
   "source": [
    "#-> ndarray에 해당하는 위치의 인덱스 값을 []안에 입력\n",
    "# 3(0부터 시작이기 때문에 2)번째 값 추출\n",
    "print(array_ex1[2])\n",
    "print()\n",
    "\n",
    "# array_ex1의 값을 수정할 수 있습니다. (첫 번째 값을 1로 바꾸기)\n",
    "array_ex1[0]=8\n",
    "print(array_ex1)\n",
    "print()\n",
    "array_ex1[0]=0\n",
    "\n",
    "# 2차원의 ndarray의 경우 [row위치, column위치]로 로우와 칼럼의 위치 인덱스를 통해 접근이 가능합니다.\n",
    "print(array_ex3)\n",
    "print('(row=1, col=0) index 가리키는 값: ',array_ex3[1, 0])\n",
    "print('(row=3, col=1) index 가리키는 값: ',array_ex3[3, 1])\n",
    "print('(row=4, col=1) index 가리키는 값: ',array_ex3[4, 1])\n",
    "print()\n",
    "\n",
    "# ':'(콜론)을 이용하여 선택\n",
    "zero_to_one = array_ex1[:2]\n",
    "print(zero_to_one)\n",
    "one_to = array_ex1[1:]\n",
    "print(one_to)\n",
    "print()\n",
    "\n",
    "# 마찬가지로 2차원의 ndarray의 경우 [row위치, column위치]로 로우와 칼럼의 위치 인덱스를 통해 접근이 가능합니다.\n",
    "print(array_ex3)\n",
    "print('(row=1~2, col=0~1) index 가리키는 값: \\n', array_ex3[1:3, 0:2])"
   ]
  },
  {
   "source": [
    "## 4. 넘파이 배열 연산"
   ],
   "cell_type": "markdown",
   "metadata": {}
  },
  {
   "cell_type": "code",
   "execution_count": 19,
   "metadata": {},
   "outputs": [
    {
     "output_type": "stream",
     "name": "stdout",
     "text": [
      "[[3 4]\n [5 6]] \n\n[[-3 -2]\n [-1  0]] \n\n[[ 0 10]\n [20 30]] \n\n[[0.  0.1]\n [0.2 0.3]]\n"
     ]
    }
   ],
   "source": [
    "# 배열의 사칙연산\n",
    "arr=np.arange(4).reshape(2,2)\n",
    "print(arr+3,'\\n')\n",
    "print(arr-3,'\\n')\n",
    "print(arr*10,'\\n')\n",
    "print(arr/10)"
   ]
  },
  {
   "cell_type": "code",
   "execution_count": 20,
   "metadata": {},
   "outputs": [
    {
     "output_type": "stream",
     "name": "stdout",
     "text": [
      "6 \n\n1.5 \n\n1.25 \n\n1.118033988749895\n"
     ]
    }
   ],
   "source": [
    "# 배열의 합, 평균, 분산, 표준편차\n",
    "print(arr.sum(),'\\n')\n",
    "print(arr.mean(),'\\n')\n",
    "print(arr.var(),'\\n')\n",
    "print(arr.std())"
   ]
  },
  {
   "cell_type": "code",
   "execution_count": 21,
   "metadata": {},
   "outputs": [
    {
     "output_type": "stream",
     "name": "stdout",
     "text": [
      "0 \n\n3 \n\n[0 1 3 6] \n\n[0 0 0 0]\n"
     ]
    }
   ],
   "source": [
    "# 배열의 최소, 최대, 누적합, 누적곱\n",
    "print(arr.min(),'\\n')\n",
    "print(arr.max(),'\\n')\n",
    "print(arr.cumsum(),'\\n')\n",
    "print(arr.cumprod())"
   ]
  },
  {
   "source": [
    "## 5. 넘파이 행렬연산 "
   ],
   "cell_type": "markdown",
   "metadata": {}
  },
  {
   "cell_type": "code",
   "execution_count": 22,
   "metadata": {},
   "outputs": [
    {
     "output_type": "execute_result",
     "data": {
      "text/plain": [
       "array([[ 363, 2787],\n",
       "       [ 258, 2064]])"
      ]
     },
     "metadata": {},
     "execution_count": 22
    }
   ],
   "source": [
    "# 행렬곱\n",
    "matrix_1=np.array([[1,90],\n",
    "                    [2,63]])\n",
    "\n",
    "matrix_2=np.array([[3,87],\n",
    "                    [4,30]])\n",
    "\n",
    "## 모두 행렬곱을 의미\n",
    "matrix_1.dot(matrix_2)\n",
    "matrix_1@matrix_2\n",
    "np.matmul(matrix_1, matrix_2)"
   ]
  },
  {
   "cell_type": "code",
   "execution_count": 23,
   "metadata": {},
   "outputs": [
    {
     "output_type": "execute_result",
     "data": {
      "text/plain": [
       "array([[1, 4, 7],\n",
       "       [2, 5, 8]])"
      ]
     },
     "metadata": {},
     "execution_count": 23
    }
   ],
   "source": [
    "# 전치행렬\n",
    "matrix=np.array([[1,2],\n",
    "                [4,5],\n",
    "                [7,8]])\n",
    "\n",
    "## 모두 전치행렬을 의미\n",
    "matrix.T\n",
    "matrix.transpose()\n",
    "np.transpose(matrix)"
   ]
  },
  {
   "cell_type": "code",
   "execution_count": 24,
   "metadata": {},
   "outputs": [
    {
     "output_type": "stream",
     "name": "stdout",
     "text": [
      "[[-0.53846154  0.76923077]\n [ 0.01709402 -0.00854701]] \n\n[[ 1.00000000e+00 -3.46944695e-17]\n [-6.24500451e-17  1.00000000e+00]]\n"
     ]
    }
   ],
   "source": [
    "# 역행렬\n",
    "matrix_1i=np.linalg.inv(matrix_1)\n",
    "print(matrix_1i,'\\n')\n",
    "# e-17은 10의 -17제곱 이므로 거의 0에 가깝습니다\n",
    "print(matrix_1@matrix_1i)"
   ]
  }
 ],
 "metadata": {
  "kernelspec": {
   "name": "python386jvsc74a57bd0aee8b7b246df8f9039afb4144a1f6fd8d2ca17a180786b69acc140d282b71a49",
   "display_name": "Python 3.8.6 64-bit"
  },
  "language_info": {
   "codemirror_mode": {
    "name": "ipython",
    "version": 3
   },
   "file_extension": ".py",
   "mimetype": "text/x-python",
   "name": "python",
   "nbconvert_exporter": "python",
   "pygments_lexer": "ipython3",
   "version": "3.8.6"
  },
  "metadata": {
   "interpreter": {
    "hash": "aee8b7b246df8f9039afb4144a1f6fd8d2ca17a180786b69acc140d282b71a49"
   }
  }
 },
 "nbformat": 4,
 "nbformat_minor": 5
}
