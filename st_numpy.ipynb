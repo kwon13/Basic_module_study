{
 "metadata": {
  "language_info": {
   "codemirror_mode": {
    "name": "ipython",
    "version": 3
   },
   "file_extension": ".py",
   "mimetype": "text/x-python",
   "name": "python",
   "nbconvert_exporter": "python",
   "pygments_lexer": "ipython3",
   "version": "3.7.8"
  },
  "orig_nbformat": 2,
  "kernelspec": {
   "name": "python3",
   "display_name": "Python 3",
   "language": "python"
  }
 },
 "nbformat": 4,
 "nbformat_minor": 2,
 "cells": [
  {
   "cell_type": "code",
   "execution_count": 119,
   "metadata": {},
   "outputs": [],
   "source": [
    "# 머신러닝 데이터는 배열(array)로 표현됩니다. 보편적으로 넘파이 배열로 표현되기 때문에 알면 좋은 패키지입니다.\n",
    "# 파이썬의 리스트와 상당히 비슷하기 때문에 리스트에 대해서 먼저 공부하고 보는것을 권장합니다. 추가로 튜플이 무엇인지 알면 더 좋습니다! \n",
    "# 실행하기 전 어떤 결과가 나올지 생각해 보세요!\n",
    "\n",
    "# 우선 넘파이 모듈을 불러옵니다, numpy는 너무 길기 때문에 np로 축약해서 표현합니다.\n",
    "import numpy as np\n",
    "\n",
    "# 만약 모듈이 없다고 뜨면 터미널 PS C:\\Users\\파일이름> pip install numpy를 쳐주세요 "
   ]
  },
  {
   "cell_type": "code",
   "execution_count": 221,
   "metadata": {},
   "outputs": [
    {
     "output_type": "stream",
     "name": "stdout",
     "text": [
      "array1 type:  <class 'numpy.ndarray'>\narray1의 array 형태 (2,)\narray2 type:  <class 'numpy.ndarray'>\narray2의 array 형태 (2,)\narray3 type:  <class 'numpy.ndarray'>\narray3의 array 형태 (1, 3)\narray4 type:  <class 'numpy.ndarray'>\narray4의 array 형태 (1, 3, 3)\n"
     ]
    }
   ],
   "source": [
    "# array()함수: 파이썬의 리스트와 같은 다양한 인자를 ndarray로 변환해 줍니다.\n",
    "# -> 생성된 ndarray 배열의 형태는 행과 열의 수를 튜플 형태로 가지고 있고, 데이터 값은 자료, 숫자, 불 모두 가능합니다. \n",
    "\n",
    "array1 = np.array([1, 2])\n",
    "#1차원 array\n",
    "print('array1 type: ', type(array1))\n",
    "print('array1의 array 형태', array1.shape)\n",
    "\n",
    "array2 = np.array([[1, 2], [2, 3, 4]])\n",
    "#2차원 array\n",
    "print('array2 type: ', type(array2))\n",
    "print('array2의 array 형태', array2.shape)\n",
    "\n",
    "array3 = np.array([[1, 2, 3]])\n",
    "#2차원 array\n",
    "print('array3 type: ', type(array3))\n",
    "print('array3의 array 형태', array3.shape)\n",
    "\n",
    "array4 = np.array([[[1, 2, 3], [1, 2, 0], [8, 9, 7]]])\n",
    "#3차원 array\n",
    "print('array4 type: ', type(array4))\n",
    "print('array4의 array 형태', array4.shape)\n"
   ]
  },
  {
   "cell_type": "code",
   "execution_count": 128,
   "metadata": {},
   "outputs": [
    {
     "output_type": "stream",
     "name": "stdout",
     "text": [
      "array1: 1차원\narray2: 1차원\narray3: 2차원\n"
     ]
    }
   ],
   "source": [
    "# 각 array의 차원을 ndim을 이용해 확인 \n",
    "print('array1: {:0}차원'.format(array1.ndim))\n",
    "print('array2: {:0}차원'.format(array2.ndim))\n",
    "print('array3: {:0}차원'.format(array3.ndim))\n",
    "\n",
    "# 가장 바깥 [](대괄호)의 개수에 따라 차원이 달라지는 것을 알 수 있습니다.\n",
    "# 추후 다룰 CNN알고리즘의 이미지 데이터의 차원, 최적화를 위한 데이터 차원 낮추기 등 데이터의 차원 수를 인지하는 것은 매우 중요합니다!"
   ]
  },
  {
   "cell_type": "code",
   "execution_count": 145,
   "metadata": {},
   "outputs": [
    {
     "output_type": "stream",
     "name": "stdout",
     "text": [
      "int로 바꾸기 전 \nnumber_array의 타입: float64\nnumber_array의 형태: [1. 2. 3.]\n\nint로 바꾼 후 \nnumber_array의 타입: int32\nnumber_array의 형태: [1 2 3]\n"
     ]
    }
   ],
   "source": [
    "# astype()를 이용하면 ndarray내의 데이터 타입 변경도 가능합니다.\n",
    "\n",
    "number_array = np.array([1.0, 2.0, 3.0])\n",
    "print('int로 바꾸기 전 \\nnumber_array의 타입: {}'.format(number_array.dtype))\n",
    "print('number_array의 형태: {}'.format(number_array))\n",
    "\n",
    "print()\n",
    "array_int = number_array.astype('int')\n",
    "print('int로 바꾼 후 \\nnumber_array의 타입: {}'.format(array_int.dtype))\n",
    "print('number_array의 형태: {}'.format(array_int))\n",
    "\n",
    "# 의미없는 소수점을 지워 메모리 절약 가능!"
   ]
  },
  {
   "cell_type": "code",
   "execution_count": 149,
   "metadata": {},
   "outputs": [
    {
     "output_type": "stream",
     "name": "stdout",
     "text": [
      "[0 1 2 3 4 5 6 7 8 9]\n<class 'numpy.ndarray'>\n\n[5 6 7 8 9]\n<class 'numpy.ndarray'>\n"
     ]
    }
   ],
   "source": [
    "# arange()함수: 파이썬의 range함수와 비슷하게 값을 순차적으로 ndarray값으로 변환합니다.\n",
    "\n",
    "zero_to_nine = np.arange(10)\n",
    "print(zero_to_nine)\n",
    "print(type(zero_to_nine))\n",
    "print()\n",
    "five_to_nine = np.arange(5, 10)\n",
    "print(five_to_nine)\n",
    "print(type(five_to_nine))"
   ]
  },
  {
   "cell_type": "code",
   "execution_count": 156,
   "metadata": {},
   "outputs": [
    {
     "output_type": "stream",
     "name": "stdout",
     "text": [
      "[0 0 0 0 0]\nint32\n(5,)\n\n[1. 1. 1. 1. 1.]\nfloat64\n(5,)\n\n[0 0 0 0 0 0 0 0 0 0]\n"
     ]
    }
   ],
   "source": [
    "# zeros()함수, ones()함수: 튜플형태의 shape 값을 입력하면 모든 값을 (zeros함수는 0) (ones함수는 1)로 채운 ndarray로 변환합니다.\n",
    "\n",
    "zero_array = np.zeros((5,), dtype='int')\n",
    "print(zero_array)\n",
    "print(zero_array.dtype)\n",
    "print(zero_array.shape)\n",
    "print()\n",
    "#dtype값을 지정하지 않으면 float값으로 채워집니다\n",
    "ones_array = np.ones((5,))\n",
    "print(ones_array)\n",
    "print(ones_array.dtype)\n",
    "print(ones_array.shape)\n",
    "print()\n",
    "\n",
    "# 위의 zero_to_nine의 값을 다 0으로 바꿉니다\n",
    "rp_o_array = np.zeros(zero_to_nine.shape, dtype='int')\n",
    "print(rp_o_array)"
   ]
  },
  {
   "cell_type": "code",
   "execution_count": 168,
   "metadata": {},
   "outputs": [
    {
     "output_type": "stream",
     "name": "stdout",
     "text": [
      "array_ex1:\n [0 1 2 3 4 5 6 7 8 9]\n\narray_ex2:\n [[0 1 2 3 4]\n [5 6 7 8 9]]\n\narray_ex3:\n [[0 1]\n [2 3]\n [4 5]\n [6 7]\n [8 9]]\n\narray_ex4:\n [[0 1 2 3 4]\n [5 6 7 8 9]]\n---> (2, 5) \n여기서 -1이 2로 변경\n\narray_ex5:\n [[0 1 2 3 4]\n [5 6 7 8 9]]\n---> (2, 5) \n여기서 -1이 5로 변경\n"
     ]
    }
   ],
   "source": [
    "# reshape()함수: ndarray의 차원과 크기를 변경합니다.\n",
    "\n",
    "array_ex1 = np.arange(10)\n",
    "print('array_ex1:\\n', array_ex1)\n",
    "\n",
    "# 쉽게 10 개의 값을 5개씩 2세트로 이해\n",
    "array_ex2 = array_ex1.reshape(2, 5)\n",
    "print('\\narray_ex2:\\n', array_ex2)\n",
    "# 쉽게 10 개의 값을 2개씩 5세트로 이해\n",
    "array_ex3 = array_ex1.reshape(5, 2)\n",
    "print('\\narray_ex3:\\n', array_ex3)\n",
    "\n",
    "# 만약 array_ex1.reshape(4, 2)처럼 변경이 불가능하면 오류를 발생시킵니다.\n",
    "\n",
    "# -1은 알아서 호환되는 값으로 변경되어 ndarray로 만들어줍니다.\n",
    "array_ex4 = array_ex1.reshape(-1, 5)\n",
    "print('\\narray_ex4:\\n', array_ex4)\n",
    "print('--->',array_ex4.shape, '\\n여기서 -1이 2로 변경')\n",
    "array_ex5 = array_ex1.reshape(2, -1)\n",
    "print('\\narray_ex5:\\n', array_ex5)\n",
    "print('--->',array_ex5.shape, '\\n여기서 -1이 5로 변경')\n",
    "\n",
    "# 마찬가지로 array_ex1.reshape(4, -1)처럼 변경이 불가능하면 오류를 발생시킵니다."
   ]
  },
  {
   "cell_type": "code",
   "execution_count": 191,
   "metadata": {},
   "outputs": [
    {
     "output_type": "stream",
     "name": "stdout",
     "text": [
      "2\n\n[8 1 2 3 4 5 6 7 8 9]\n\n[[0 1]\n [2 3]\n [4 5]\n [6 7]\n [8 9]]\n(row=1, col=0) index 가리키는 값:  2\n(row=3, col=1) index 가리키는 값:  7\n(row=4, col=1) index 가리키는 값:  9\n\n[0 1]\n[1 2 3 4 5 6 7 8 9]\n\n[[0 1]\n [2 3]\n [4 5]\n [6 7]\n [8 9]]\n(row=1~2, col=0~1) index 가리키는 값: \n [[2 3]\n [4 5]]\n"
     ]
    }
   ],
   "source": [
    "# ndarray의 데이터세트 선택하기\n",
    "\n",
    "#-> ndarray에 해당하는 위치의 인덱스 값을 []안에 입력\n",
    "# 3(0부터 시작이기 때문에 2)번째 값 추출\n",
    "print(array_ex1[2])\n",
    "print()\n",
    "\n",
    "# array_ex1의 값을 수정할 수 있습니다. (첫 번째 값을 1로 바꾸기)\n",
    "array_ex1[0]=8\n",
    "print(array_ex1)\n",
    "print()\n",
    "array_ex1[0]=0\n",
    "\n",
    "# 2차원의 ndarray의 경우 [row위치, column위치]로 로우와 칼럼의 위치 인덱스를 통해 접근이 가능합니다.\n",
    "print(array_ex3)\n",
    "print('(row=1, col=0) index 가리키는 값: ',array_ex3[1, 0])\n",
    "print('(row=3, col=1) index 가리키는 값: ',array_ex3[3, 1])\n",
    "print('(row=4, col=1) index 가리키는 값: ',array_ex3[4, 1])\n",
    "print()\n",
    "\n",
    "# ':'(콜론)을 이용하여 선택\n",
    "zero_to_one = array_ex1[:2]\n",
    "print(zero_to_one)\n",
    "one_to = array_ex1[1:]\n",
    "print(one_to)\n",
    "print()\n",
    "\n",
    "# 마찬가지로 2차원의 ndarray의 경우 [row위치, column위치]로 로우와 칼럼의 위치 인덱스를 통해 접근이 가능합니다.\n",
    "print(array_ex3)\n",
    "print('(row=1~2, col=0~1) index 가리키는 값: \\n', array_ex3[1:3, 0:2])"
   ]
  },
  {
   "cell_type": "code",
   "execution_count": 207,
   "metadata": {},
   "outputs": [
    {
     "output_type": "stream",
     "name": "stdout",
     "text": [
      "원본 행렬: [3 1 8 4]\n\n[1 3 4 8]\norg_array가 바뀌지 않았습니다: [3 1 8 4]\n\nNone\norg_array가 바뀌었습니다: [1 3 4 8]\n\n내림차순으로 정렬되었습니다: [8 4 3 1]\n"
     ]
    }
   ],
   "source": [
    "# np.sort(), ndarray.sort()함수: 행렬을 정리하는 함수입니다.\n",
    "org_array = np.array([3, 1, 8, 4])\n",
    "print('원본 행렬:', org_array)\n",
    "print()\n",
    "\n",
    "# np.sort()함수를 사용하면 원래의 행렬은 그대로 유지한 채 정렬합니다\n",
    "print(np.sort(org_array))\n",
    "print('org_array가 바뀌지 않았습니다:',org_array)\n",
    "print()\n",
    "\n",
    "# ndarray.sort()함수를 사용하면 원래의 행렬을 정렬합니다.\n",
    "print(org_array.sort())\n",
    "print('org_array가 바뀌었습니다:',org_array)\n",
    "print()\n",
    "\n",
    "# 내림차순으로 정렬하기 위해서는 [::-1]을 적용하면 됩니다.\n",
    "down_array = np.sort(org_array)[::-1]\n",
    "print('내림차순으로 정렬되었습니다:',down_array)"
   ]
  },
  {
   "cell_type": "code",
   "execution_count": 208,
   "metadata": {},
   "outputs": [],
   "source": [
    "# 행렬에 대해 이 블로그(https://blog.naver.com/hyunmonn/221989353051)에서 간단하게 알아보세요!"
   ]
  },
  {
   "cell_type": "code",
   "execution_count": 210,
   "metadata": {},
   "outputs": [
    {
     "output_type": "stream",
     "name": "stdout",
     "text": [
      "행렬 A와 B의 내적:\n [[19 22]\n [43 50]]\n"
     ]
    }
   ],
   "source": [
    "# np.dot()함수: 행렬의 내적을 계산합니다\n",
    "A = np.array([[1, 2], [3, 4]])\n",
    "B = np.array([[5, 6], [7, 8]])\n",
    "dot_product = np.dot(A, B)\n",
    "print('행렬 A와 B의 내적:\\n',dot_product)"
   ]
  },
  {
   "cell_type": "code",
   "execution_count": 220,
   "metadata": {},
   "outputs": [
    {
     "output_type": "stream",
     "name": "stdout",
     "text": [
      "바꾸기 전:\n [[1 3]\n [4 6]]\n\n바꾼 후:\n [[1 4]\n [3 6]]\n"
     ]
    }
   ],
   "source": [
    "# np.transpose()함수: 원래의 행렬을 열 위치를 바꿉니다.\n",
    "\n",
    "C = np.array([[1, 3], [4, 6]])\n",
    "print('바꾸기 전:\\n', C)\n",
    "trans_C = np.transpose(C)\n",
    "print('\\n바꾼 후:\\n', trans_C)"
   ]
  },
  {
   "cell_type": "code",
   "execution_count": null,
   "metadata": {},
   "outputs": [],
   "source": []
  }
 ]
}